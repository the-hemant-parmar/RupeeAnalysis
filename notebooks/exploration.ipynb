{
 "cells": [
  {
   "cell_type": "code",
   "execution_count": 2,
   "id": "f092a93f",
   "metadata": {},
   "outputs": [],
   "source": [
    "import pandas as pd\n",
    "import plotly.express as px"
   ]
  },
  {
   "cell_type": "code",
   "execution_count": 3,
   "id": "12c2a3c4",
   "metadata": {},
   "outputs": [
    {
     "data": {
      "text/html": [
       "<div>\n",
       "<style scoped>\n",
       "    .dataframe tbody tr th:only-of-type {\n",
       "        vertical-align: middle;\n",
       "    }\n",
       "\n",
       "    .dataframe tbody tr th {\n",
       "        vertical-align: top;\n",
       "    }\n",
       "\n",
       "    .dataframe thead th {\n",
       "        text-align: right;\n",
       "    }\n",
       "</style>\n",
       "<table border=\"1\" class=\"dataframe\">\n",
       "  <thead>\n",
       "    <tr style=\"text-align: right;\">\n",
       "      <th></th>\n",
       "      <th>Date</th>\n",
       "      <th>USD_INR</th>\n",
       "      <th>EUR_INR</th>\n",
       "      <th>JPY_INR</th>\n",
       "      <th>CNY_INR</th>\n",
       "      <th>GBP_INR</th>\n",
       "    </tr>\n",
       "  </thead>\n",
       "  <tbody>\n",
       "    <tr>\n",
       "      <th>0</th>\n",
       "      <td>NaN</td>\n",
       "      <td>USDINR=X</td>\n",
       "      <td>EURINR=X</td>\n",
       "      <td>JPYINR=X</td>\n",
       "      <td>CNYINR=X</td>\n",
       "      <td>GBPINR=X</td>\n",
       "    </tr>\n",
       "    <tr>\n",
       "      <th>1</th>\n",
       "      <td>2024-10-15</td>\n",
       "      <td>84.04850006103516</td>\n",
       "      <td>91.60199737548828</td>\n",
       "      <td>0.5609909892082214</td>\n",
       "      <td>NaN</td>\n",
       "      <td>109.80130004882812</td>\n",
       "    </tr>\n",
       "    <tr>\n",
       "      <th>2</th>\n",
       "      <td>2024-10-16</td>\n",
       "      <td>84.05619812011719</td>\n",
       "      <td>91.41999816894531</td>\n",
       "      <td>0.5633090138435364</td>\n",
       "      <td>NaN</td>\n",
       "      <td>109.85874938964844</td>\n",
       "    </tr>\n",
       "    <tr>\n",
       "      <th>3</th>\n",
       "      <td>2024-10-17</td>\n",
       "      <td>84.03929901123047</td>\n",
       "      <td>91.13999938964844</td>\n",
       "      <td>0.5611079931259155</td>\n",
       "      <td>NaN</td>\n",
       "      <td>109.15906524658203</td>\n",
       "    </tr>\n",
       "    <tr>\n",
       "      <th>4</th>\n",
       "      <td>2024-10-18</td>\n",
       "      <td>84.05380249023438</td>\n",
       "      <td>90.95600128173828</td>\n",
       "      <td>0.5595570206642151</td>\n",
       "      <td>NaN</td>\n",
       "      <td>109.41233825683594</td>\n",
       "    </tr>\n",
       "  </tbody>\n",
       "</table>\n",
       "</div>"
      ],
      "text/plain": [
       "         Date            USD_INR            EUR_INR             JPY_INR  \\\n",
       "0         NaN           USDINR=X           EURINR=X            JPYINR=X   \n",
       "1  2024-10-15  84.04850006103516  91.60199737548828  0.5609909892082214   \n",
       "2  2024-10-16  84.05619812011719  91.41999816894531  0.5633090138435364   \n",
       "3  2024-10-17  84.03929901123047  91.13999938964844  0.5611079931259155   \n",
       "4  2024-10-18  84.05380249023438  90.95600128173828  0.5595570206642151   \n",
       "\n",
       "    CNY_INR             GBP_INR  \n",
       "0  CNYINR=X            GBPINR=X  \n",
       "1       NaN  109.80130004882812  \n",
       "2       NaN  109.85874938964844  \n",
       "3       NaN  109.15906524658203  \n",
       "4       NaN  109.41233825683594  "
      ]
     },
     "execution_count": 3,
     "metadata": {},
     "output_type": "execute_result"
    }
   ],
   "source": [
    "df = pd.read_csv('../data/currency_data.csv')\n",
    "df.head()"
   ]
  },
  {
   "cell_type": "code",
   "execution_count": 4,
   "id": "140d7613",
   "metadata": {},
   "outputs": [],
   "source": [
    "df = df.drop(columns=['CNY_INR'])"
   ]
  },
  {
   "cell_type": "code",
   "execution_count": 5,
   "id": "73aee2f9",
   "metadata": {},
   "outputs": [],
   "source": [
    "# Drop the first row if it's headers repeated as data\n",
    "df = df.iloc[1:]"
   ]
  },
  {
   "cell_type": "code",
   "execution_count": 6,
   "id": "49cd5560",
   "metadata": {},
   "outputs": [
    {
     "data": {
      "text/html": [
       "<div>\n",
       "<style scoped>\n",
       "    .dataframe tbody tr th:only-of-type {\n",
       "        vertical-align: middle;\n",
       "    }\n",
       "\n",
       "    .dataframe tbody tr th {\n",
       "        vertical-align: top;\n",
       "    }\n",
       "\n",
       "    .dataframe thead th {\n",
       "        text-align: right;\n",
       "    }\n",
       "</style>\n",
       "<table border=\"1\" class=\"dataframe\">\n",
       "  <thead>\n",
       "    <tr style=\"text-align: right;\">\n",
       "      <th></th>\n",
       "      <th>Date</th>\n",
       "      <th>USD_INR</th>\n",
       "      <th>EUR_INR</th>\n",
       "      <th>JPY_INR</th>\n",
       "      <th>GBP_INR</th>\n",
       "    </tr>\n",
       "  </thead>\n",
       "  <tbody>\n",
       "    <tr>\n",
       "      <th>1</th>\n",
       "      <td>2024-10-15</td>\n",
       "      <td>84.04850006103516</td>\n",
       "      <td>91.60199737548828</td>\n",
       "      <td>0.5609909892082214</td>\n",
       "      <td>109.80130004882812</td>\n",
       "    </tr>\n",
       "    <tr>\n",
       "      <th>2</th>\n",
       "      <td>2024-10-16</td>\n",
       "      <td>84.05619812011719</td>\n",
       "      <td>91.41999816894531</td>\n",
       "      <td>0.5633090138435364</td>\n",
       "      <td>109.85874938964844</td>\n",
       "    </tr>\n",
       "    <tr>\n",
       "      <th>3</th>\n",
       "      <td>2024-10-17</td>\n",
       "      <td>84.03929901123047</td>\n",
       "      <td>91.13999938964844</td>\n",
       "      <td>0.5611079931259155</td>\n",
       "      <td>109.15906524658203</td>\n",
       "    </tr>\n",
       "    <tr>\n",
       "      <th>4</th>\n",
       "      <td>2024-10-18</td>\n",
       "      <td>84.05380249023438</td>\n",
       "      <td>90.95600128173828</td>\n",
       "      <td>0.5595570206642151</td>\n",
       "      <td>109.41233825683594</td>\n",
       "    </tr>\n",
       "    <tr>\n",
       "      <th>5</th>\n",
       "      <td>2024-10-21</td>\n",
       "      <td>84.0687026977539</td>\n",
       "      <td>90.16999816894531</td>\n",
       "      <td>0.5549439787864685</td>\n",
       "      <td>109.71588134765625</td>\n",
       "    </tr>\n",
       "  </tbody>\n",
       "</table>\n",
       "</div>"
      ],
      "text/plain": [
       "         Date            USD_INR            EUR_INR             JPY_INR  \\\n",
       "1  2024-10-15  84.04850006103516  91.60199737548828  0.5609909892082214   \n",
       "2  2024-10-16  84.05619812011719  91.41999816894531  0.5633090138435364   \n",
       "3  2024-10-17  84.03929901123047  91.13999938964844  0.5611079931259155   \n",
       "4  2024-10-18  84.05380249023438  90.95600128173828  0.5595570206642151   \n",
       "5  2024-10-21   84.0687026977539  90.16999816894531  0.5549439787864685   \n",
       "\n",
       "              GBP_INR  \n",
       "1  109.80130004882812  \n",
       "2  109.85874938964844  \n",
       "3  109.15906524658203  \n",
       "4  109.41233825683594  \n",
       "5  109.71588134765625  "
      ]
     },
     "execution_count": 6,
     "metadata": {},
     "output_type": "execute_result"
    }
   ],
   "source": [
    "df.head()"
   ]
  },
  {
   "cell_type": "code",
   "execution_count": 7,
   "id": "200df75e",
   "metadata": {},
   "outputs": [
    {
     "data": {
      "text/plain": [
       "Index(['Date', 'USD_INR', 'EUR_INR', 'JPY_INR', 'GBP_INR'], dtype='object')"
      ]
     },
     "execution_count": 7,
     "metadata": {},
     "output_type": "execute_result"
    }
   ],
   "source": [
    "df.columns"
   ]
  },
  {
   "cell_type": "code",
   "execution_count": 8,
   "id": "917de132",
   "metadata": {},
   "outputs": [
    {
     "data": {
      "text/plain": [
       "(259, 5)"
      ]
     },
     "execution_count": 8,
     "metadata": {},
     "output_type": "execute_result"
    }
   ],
   "source": [
    "df.shape"
   ]
  },
  {
   "cell_type": "code",
   "execution_count": 9,
   "id": "dfbd4fe2",
   "metadata": {},
   "outputs": [
    {
     "data": {
      "text/plain": [
       "Date       object\n",
       "USD_INR    object\n",
       "EUR_INR    object\n",
       "JPY_INR    object\n",
       "GBP_INR    object\n",
       "dtype: object"
      ]
     },
     "execution_count": 9,
     "metadata": {},
     "output_type": "execute_result"
    }
   ],
   "source": [
    "df.dtypes"
   ]
  },
  {
   "cell_type": "code",
   "execution_count": 10,
   "id": "4602cbcc",
   "metadata": {},
   "outputs": [],
   "source": [
    "df = df.astype(\n",
    "    {\n",
    "        \"Date\": str,\n",
    "        \"USD_INR\": float,\n",
    "        \"EUR_INR\": float,\n",
    "        \"JPY_INR\": float,\n",
    "        \"GBP_INR\": float,\n",
    "    }\n",
    ")"
   ]
  },
  {
   "cell_type": "code",
   "execution_count": 13,
   "id": "20946dc8",
   "metadata": {},
   "outputs": [
    {
     "data": {
      "text/plain": [
       "Date        object\n",
       "USD_INR    float64\n",
       "EUR_INR    float64\n",
       "JPY_INR    float64\n",
       "GBP_INR    float64\n",
       "dtype: object"
      ]
     },
     "execution_count": 13,
     "metadata": {},
     "output_type": "execute_result"
    }
   ],
   "source": [
    "df.dtypes"
   ]
  },
  {
   "cell_type": "code",
   "execution_count": 18,
   "id": "f6ef9a25",
   "metadata": {},
   "outputs": [
    {
     "data": {
      "application/vnd.plotly.v1+json": {
       "config": {
        "plotlyServerURL": "https://plot.ly"
       },
       "data": [
        {
         "hovertemplate": "variable=USD_INR<br>Date=%{x}<br>value=%{y}<extra></extra>",
         "legendgroup": "USD_INR",
         "line": {
          "color": "#636efa",
          "dash": "solid"
         },
         "marker": {
          "symbol": "circle"
         },
         "mode": "lines",
         "name": "USD_INR",
         "showlegend": true,
         "type": "scattergl",
         "x": [
          "2024-10-15",
          "2024-10-16",
          "2024-10-17",
          "2024-10-18",
          "2024-10-21",
          "2024-10-22",
          "2024-10-23",
          "2024-10-24",
          "2024-10-25",
          "2024-10-28",
          "2024-10-29",
          "2024-10-30",
          "2024-10-31",
          "2024-11-01",
          "2024-11-04",
          "2024-11-05",
          "2024-11-06",
          "2024-11-07",
          "2024-11-08",
          "2024-11-11",
          "2024-11-12",
          "2024-11-13",
          "2024-11-14",
          "2024-11-15",
          "2024-11-18",
          "2024-11-19",
          "2024-11-20",
          "2024-11-21",
          "2024-11-22",
          "2024-11-25",
          "2024-11-26",
          "2024-11-27",
          "2024-11-28",
          "2024-11-29",
          "2024-12-02",
          "2024-12-03",
          "2024-12-04",
          "2024-12-05",
          "2024-12-06",
          "2024-12-09",
          "2024-12-10",
          "2024-12-11",
          "2024-12-12",
          "2024-12-13",
          "2024-12-16",
          "2024-12-17",
          "2024-12-18",
          "2024-12-19",
          "2024-12-20",
          "2024-12-23",
          "2024-12-24",
          "2024-12-25",
          "2024-12-26",
          "2024-12-27",
          "2024-12-30",
          "2024-12-31",
          "2025-01-02",
          "2025-01-03",
          "2025-01-06",
          "2025-01-07",
          "2025-01-08",
          "2025-01-09",
          "2025-01-10",
          "2025-01-13",
          "2025-01-14",
          "2025-01-15",
          "2025-01-16",
          "2025-01-17",
          "2025-01-20",
          "2025-01-21",
          "2025-01-22",
          "2025-01-23",
          "2025-01-24",
          "2025-01-27",
          "2025-01-28",
          "2025-01-29",
          "2025-01-30",
          "2025-01-31",
          "2025-02-03",
          "2025-02-04",
          "2025-02-05",
          "2025-02-06",
          "2025-02-07",
          "2025-02-10",
          "2025-02-11",
          "2025-02-12",
          "2025-02-13",
          "2025-02-14",
          "2025-02-17",
          "2025-02-18",
          "2025-02-19",
          "2025-02-20",
          "2025-02-21",
          "2025-02-24",
          "2025-02-25",
          "2025-02-26",
          "2025-02-27",
          "2025-02-28",
          "2025-03-03",
          "2025-03-04",
          "2025-03-05",
          "2025-03-06",
          "2025-03-07",
          "2025-03-10",
          "2025-03-11",
          "2025-03-12",
          "2025-03-13",
          "2025-03-14",
          "2025-03-17",
          "2025-03-18",
          "2025-03-19",
          "2025-03-20",
          "2025-03-21",
          "2025-03-24",
          "2025-03-25",
          "2025-03-26",
          "2025-03-27",
          "2025-03-28",
          "2025-03-31",
          "2025-04-01",
          "2025-04-02",
          "2025-04-03",
          "2025-04-04",
          "2025-04-07",
          "2025-04-08",
          "2025-04-09",
          "2025-04-10",
          "2025-04-11",
          "2025-04-14",
          "2025-04-15",
          "2025-04-16",
          "2025-04-17",
          "2025-04-22",
          "2025-04-23",
          "2025-04-24",
          "2025-04-25",
          "2025-04-28",
          "2025-04-29",
          "2025-04-30",
          "2025-05-01",
          "2025-05-02",
          "2025-05-05",
          "2025-05-06",
          "2025-05-07",
          "2025-05-08",
          "2025-05-09",
          "2025-05-12",
          "2025-05-13",
          "2025-05-14",
          "2025-05-15",
          "2025-05-16",
          "2025-05-19",
          "2025-05-20",
          "2025-05-21",
          "2025-05-22",
          "2025-05-23",
          "2025-05-26",
          "2025-05-27",
          "2025-05-28",
          "2025-05-29",
          "2025-05-30",
          "2025-06-02",
          "2025-06-03",
          "2025-06-04",
          "2025-06-05",
          "2025-06-06",
          "2025-06-09",
          "2025-06-10",
          "2025-06-11",
          "2025-06-12",
          "2025-06-13",
          "2025-06-16",
          "2025-06-17",
          "2025-06-18",
          "2025-06-19",
          "2025-06-20",
          "2025-06-23",
          "2025-06-24",
          "2025-06-25",
          "2025-06-26",
          "2025-06-27",
          "2025-06-30",
          "2025-07-01",
          "2025-07-02",
          "2025-07-03",
          "2025-07-04",
          "2025-07-07",
          "2025-07-08",
          "2025-07-09",
          "2025-07-10",
          "2025-07-11",
          "2025-07-14",
          "2025-07-15",
          "2025-07-16",
          "2025-07-17",
          "2025-07-18",
          "2025-07-21",
          "2025-07-22",
          "2025-07-23",
          "2025-07-24",
          "2025-07-25",
          "2025-07-28",
          "2025-07-29",
          "2025-07-30",
          "2025-07-31",
          "2025-08-01",
          "2025-08-04",
          "2025-08-05",
          "2025-08-06",
          "2025-08-07",
          "2025-08-08",
          "2025-08-11",
          "2025-08-12",
          "2025-08-13",
          "2025-08-14",
          "2025-08-15",
          "2025-08-18",
          "2025-08-19",
          "2025-08-20",
          "2025-08-21",
          "2025-08-22",
          "2025-08-25",
          "2025-08-26",
          "2025-08-27",
          "2025-08-28",
          "2025-08-29",
          "2025-09-01",
          "2025-09-02",
          "2025-09-03",
          "2025-09-04",
          "2025-09-05",
          "2025-09-08",
          "2025-09-09",
          "2025-09-10",
          "2025-09-11",
          "2025-09-12",
          "2025-09-15",
          "2025-09-16",
          "2025-09-17",
          "2025-09-18",
          "2025-09-19",
          "2025-09-22",
          "2025-09-23",
          "2025-09-24",
          "2025-09-25",
          "2025-09-26",
          "2025-09-29",
          "2025-09-30",
          "2025-10-01",
          "2025-10-02",
          "2025-10-03",
          "2025-10-06",
          "2025-10-07",
          "2025-10-08",
          "2025-10-09",
          "2025-10-10",
          "2025-10-13",
          "2025-10-14",
          "2025-10-15"
         ],
         "xaxis": "x",
         "y": {
          "bdata": "AAAAoBoDVUAAAADAmANVQAAAAOCDAlVAAAAAgHEDVUAAAACgZQRVQAAAAEC0BFVAAAAAQGAFVUAAAACAUwRVQAAAAEA8BVVAAAAAIIcGVUAAAABAlAZVQAAAACC3BVVAAAAA4LMFVUAAAAAg2wVVQAAAAOCMCFVAAAAAgMIJVUAAAACAcQdVQAAAAKATEFVAAAAAAJwTVUAAAABggRhVQAAAAEBgGVVAAAAAoEwZVUAAAABgEhtVQAAAAMBSHlVAAAAAYI8eVUAAAAAAgRlVQAAAAEByGVVAAAAAwIQYVUAAAABAQB9VQAAAAGDnG1VAAAAAACkYVUAAAADgsxVVQAAAAEDmGlVAAAAAwC4eVUAAAADgpSNVQAAAAKAsL1VAAAAA4LcrVUAAAACAPy1VQAAAAGDDK1VAAAAAwJ8qVUAAAAAgOjZVQAAAAKDvN1VAAAAAwNo2VUAAAACAtTVVQAAAAABUM1VAAAAAALU6VUAAAADglTpVQAAAAICXSlVAAAAAwOFRVUAAAADgejxVQAAAAGBURlVAAAAAwJ1LVUAAAAAgdVpVQAAAAKCyUFVAAAAAQLRYVUAAAACgV3JVQAAAAOBIclVAAAAAwHRzVUAAAACAk3BVQAAAAKCQa1VAAAAAwJ1zVUAAAACAFHpVQAAAAEDhelVAAAAAQAiMVUAAAABgo6lVQAAAAABEolVAAAAAgJWbVUAAAABgyqZVQAAAAIBqpFVAAAAAoIKNVUAAAADg65xVQAAAAMBAnlVAAAAAQCycVUAAAAAA/oxVQAAAAED6nVVAAAAAIGqlVUAAAACg/6hVQAAAAIBoqVVAAAAAwHSjVUAAAACgYLxVQAAAAIBTyFVAAAAA4GHVVUAAAADApuVVQAAAAKDW4FVAAAAAwF3fVUAAAADA6rNVQAAAAKDvt1VAAAAAIEOwVUAAAACA0JtVQAAAAAC1tlVAAAAA4Me4VUAAAAAA3LdVQAAAAIDgnFVAAAAAwOGhVUAAAACgKqxVQAAAAGAyxVVAAAAAgGHKVUAAAACg7dRVQAAAACCy3VVAAAAAIBjVVUAAAABg481VQAAAAEDquFVAAAAAQD7IVUAAAAAgucRVQAAAAAC61lVAAAAAgM7MVUAAAABgzNVVQAAAAKADu1VAAAAAoBi8VUAAAABAprpVQAAAAODepFVAAAAAAJOVVUAAAACggpVVQAAAAAArf1VAAAAA4A1iVUAAAAAgyWVVQAAAAAAbhlVAAAAAQHlsVUAAAADAe2JVQAAAAGD1XVVAAAAA4AtnVUAAAABArWlVQAAAAAAbUlVAAAAAAOBhVUAAAABguoFVQAAAAADcm1VAAAAAIGWNVUAAAABgqpBVQAAAACBajFVAAAAAAN6CVUAAAABAgm5VQAAAAEC2Z1VAAAAAYCtKVUAAAACg305VQAAAAGD+X1VAAAAAoHdQVUAAAABAolhVQAAAAGBCSlVAAAAAYO5KVUAAAAAg/yFVQAAAAMCWLFVAAAAA4K4hVUAAAACgIQ5VQAAAAMDDMlVAAAAAAE00VUAAAADAQoVVQAAAAKAhWlVAAAAAAM49VUAAAAAA3ENVQAAAAOA0X1VAAAAAQHlcVUAAAADgBGBVQAAAAIDQV1VAAAAAgE9iVUAAAABga2ZVQAAAAMBkflVAAAAAYMFMVUAAAAAAIEpVQAAAAGASV1VAAAAAoLJYVUAAAACAH1dVQAAAACCOYVVAAAAA4EZXVUAAAAAAXW1VQAAAAGDeeVVAAAAAACl4VUAAAABgQnJVQAAAAEBicFVAAAAAgMdpVUAAAABAEV5VQAAAAMAObFVAAAAA4PKPVUAAAABAq4ZVQAAAAIA2l1VAAAAAQEWnVUAAAAAAXaVVQAAAAKAjpVVAAAAAgOmOVUAAAABA6HlVQAAAAABkgFVAAAAAQKZqVUAAAACgI11VQAAAACCybVVAAAAAoCNpVUAAAAAgbGxVQAAAACBsVFVAAAAAYMNfVUAAAACAFnlVQAAAAABGbVVAAAAAIFhtVUAAAAAAB29VQAAAACCQdFVAAAAAQPp9VUAAAAAAj39VQAAAACCneFVAAAAA4PmCVUAAAACggolVQAAAAMB/jFVAAAAAYPCVVUAAAABAhJlVQAAAAACKm1VAAAAAAGSgVUAAAABAxLFVQAAAAIALxFVAAAAAALztVUAAAABgUt9VQAAAAACzz1VAAAAA4Cv5VUAAAABAR+5VQAAAAMDM8FVAAAAAgLnbVUAAAABAQN9VQAAAACCH6lVAAAAAQB7mVUAAAADAzNxVQAAAAIBG7FVAAAAAwNHgVUAAAADg4tJVQAAAAAAQxVVAAAAAQCrBVUAAAAAgx9JVQAAAAGAg1VVAAAAAQPPmVUAAAADgceZVQAAAAMAu6lVAAAAAYN7lVUAAAADAJwtWQAAAAAAXAFZAAAAAIOT/VUAAAAAArARWQAAAAIBYDFZAAAAAYOwLVkAAAACAwP5VQAAAAKD4DVZAAAAA4GoDVkAAAABgIBFWQAAAAEC/EVZAAAAAYOcHVkAAAABAnfhVQAAAAOBI+lVAAAAA4D0NVkAAAABAWQZWQAAAAEB7E1ZAAAAAQLYzVkAAAACg1DFWQAAAAIB6MVZAAAAAwFArVkAAAACAFi1WQAAAAADONVZAAAAAQLYrVkAAAADAFy5WQAAAAOALL1ZAAAAAgCYuVkAAAADAhi9WQAAAAKC9MVZAAAAAwGI3VkAAAACgdzBWQAAAAACRKlZAAAAAwJ/6VUA=",
          "dtype": "f8"
         },
         "yaxis": "y"
        },
        {
         "hovertemplate": "variable=EUR_INR<br>Date=%{x}<br>value=%{y}<extra></extra>",
         "legendgroup": "EUR_INR",
         "line": {
          "color": "#EF553B",
          "dash": "solid"
         },
         "marker": {
          "symbol": "circle"
         },
         "mode": "lines",
         "name": "EUR_INR",
         "showlegend": true,
         "type": "scattergl",
         "x": [
          "2024-10-15",
          "2024-10-16",
          "2024-10-17",
          "2024-10-18",
          "2024-10-21",
          "2024-10-22",
          "2024-10-23",
          "2024-10-24",
          "2024-10-25",
          "2024-10-28",
          "2024-10-29",
          "2024-10-30",
          "2024-10-31",
          "2024-11-01",
          "2024-11-04",
          "2024-11-05",
          "2024-11-06",
          "2024-11-07",
          "2024-11-08",
          "2024-11-11",
          "2024-11-12",
          "2024-11-13",
          "2024-11-14",
          "2024-11-15",
          "2024-11-18",
          "2024-11-19",
          "2024-11-20",
          "2024-11-21",
          "2024-11-22",
          "2024-11-25",
          "2024-11-26",
          "2024-11-27",
          "2024-11-28",
          "2024-11-29",
          "2024-12-02",
          "2024-12-03",
          "2024-12-04",
          "2024-12-05",
          "2024-12-06",
          "2024-12-09",
          "2024-12-10",
          "2024-12-11",
          "2024-12-12",
          "2024-12-13",
          "2024-12-16",
          "2024-12-17",
          "2024-12-18",
          "2024-12-19",
          "2024-12-20",
          "2024-12-23",
          "2024-12-24",
          "2024-12-25",
          "2024-12-26",
          "2024-12-27",
          "2024-12-30",
          "2024-12-31",
          "2025-01-02",
          "2025-01-03",
          "2025-01-06",
          "2025-01-07",
          "2025-01-08",
          "2025-01-09",
          "2025-01-10",
          "2025-01-13",
          "2025-01-14",
          "2025-01-15",
          "2025-01-16",
          "2025-01-17",
          "2025-01-20",
          "2025-01-21",
          "2025-01-22",
          "2025-01-23",
          "2025-01-24",
          "2025-01-27",
          "2025-01-28",
          "2025-01-29",
          "2025-01-30",
          "2025-01-31",
          "2025-02-03",
          "2025-02-04",
          "2025-02-05",
          "2025-02-06",
          "2025-02-07",
          "2025-02-10",
          "2025-02-11",
          "2025-02-12",
          "2025-02-13",
          "2025-02-14",
          "2025-02-17",
          "2025-02-18",
          "2025-02-19",
          "2025-02-20",
          "2025-02-21",
          "2025-02-24",
          "2025-02-25",
          "2025-02-26",
          "2025-02-27",
          "2025-02-28",
          "2025-03-03",
          "2025-03-04",
          "2025-03-05",
          "2025-03-06",
          "2025-03-07",
          "2025-03-10",
          "2025-03-11",
          "2025-03-12",
          "2025-03-13",
          "2025-03-14",
          "2025-03-17",
          "2025-03-18",
          "2025-03-19",
          "2025-03-20",
          "2025-03-21",
          "2025-03-24",
          "2025-03-25",
          "2025-03-26",
          "2025-03-27",
          "2025-03-28",
          "2025-03-31",
          "2025-04-01",
          "2025-04-02",
          "2025-04-03",
          "2025-04-04",
          "2025-04-07",
          "2025-04-08",
          "2025-04-09",
          "2025-04-10",
          "2025-04-11",
          "2025-04-14",
          "2025-04-15",
          "2025-04-16",
          "2025-04-17",
          "2025-04-22",
          "2025-04-23",
          "2025-04-24",
          "2025-04-25",
          "2025-04-28",
          "2025-04-29",
          "2025-04-30",
          "2025-05-01",
          "2025-05-02",
          "2025-05-05",
          "2025-05-06",
          "2025-05-07",
          "2025-05-08",
          "2025-05-09",
          "2025-05-12",
          "2025-05-13",
          "2025-05-14",
          "2025-05-15",
          "2025-05-16",
          "2025-05-19",
          "2025-05-20",
          "2025-05-21",
          "2025-05-22",
          "2025-05-23",
          "2025-05-26",
          "2025-05-27",
          "2025-05-28",
          "2025-05-29",
          "2025-05-30",
          "2025-06-02",
          "2025-06-03",
          "2025-06-04",
          "2025-06-05",
          "2025-06-06",
          "2025-06-09",
          "2025-06-10",
          "2025-06-11",
          "2025-06-12",
          "2025-06-13",
          "2025-06-16",
          "2025-06-17",
          "2025-06-18",
          "2025-06-19",
          "2025-06-20",
          "2025-06-23",
          "2025-06-24",
          "2025-06-25",
          "2025-06-26",
          "2025-06-27",
          "2025-06-30",
          "2025-07-01",
          "2025-07-02",
          "2025-07-03",
          "2025-07-04",
          "2025-07-07",
          "2025-07-08",
          "2025-07-09",
          "2025-07-10",
          "2025-07-11",
          "2025-07-14",
          "2025-07-15",
          "2025-07-16",
          "2025-07-17",
          "2025-07-18",
          "2025-07-21",
          "2025-07-22",
          "2025-07-23",
          "2025-07-24",
          "2025-07-25",
          "2025-07-28",
          "2025-07-29",
          "2025-07-30",
          "2025-07-31",
          "2025-08-01",
          "2025-08-04",
          "2025-08-05",
          "2025-08-06",
          "2025-08-07",
          "2025-08-08",
          "2025-08-11",
          "2025-08-12",
          "2025-08-13",
          "2025-08-14",
          "2025-08-15",
          "2025-08-18",
          "2025-08-19",
          "2025-08-20",
          "2025-08-21",
          "2025-08-22",
          "2025-08-25",
          "2025-08-26",
          "2025-08-27",
          "2025-08-28",
          "2025-08-29",
          "2025-09-01",
          "2025-09-02",
          "2025-09-03",
          "2025-09-04",
          "2025-09-05",
          "2025-09-08",
          "2025-09-09",
          "2025-09-10",
          "2025-09-11",
          "2025-09-12",
          "2025-09-15",
          "2025-09-16",
          "2025-09-17",
          "2025-09-18",
          "2025-09-19",
          "2025-09-22",
          "2025-09-23",
          "2025-09-24",
          "2025-09-25",
          "2025-09-26",
          "2025-09-29",
          "2025-09-30",
          "2025-10-01",
          "2025-10-02",
          "2025-10-03",
          "2025-10-06",
          "2025-10-07",
          "2025-10-08",
          "2025-10-09",
          "2025-10-10",
          "2025-10-13",
          "2025-10-14",
          "2025-10-15"
         ],
         "xaxis": "x",
         "y": {
          "bdata": "AAAAIIfmVkAAAABA4dpWQAAAAMD1yFZAAAAAIC+9VkAAAABA4YpWQAAAAGDjtVZAAAAAILKtVkAAAACgGp9WQAAAAEDhulZAAAAAgEaAVkAAAAAA1bhWQAAAAACquVZAAAAAoEXOVkAAAADgUXBXQAAAAOD7mVZAAAAAQF7aVkAAAAAgBvlWQAAAAKDtlFZAAAAAYBK7VkAAAADgUZhWQAAAACAxeFZAAAAAgOthVkAAAAAgh0ZWQAAAAMDMTFZAAAAAwHI4VkAAAADAdlZWQAAAAIAUXlZAAAAAwMo5VkAAAADA9RhWQAAAAIAW+VVAAAAAAFT7VUAAAADgeBlWQAAAACCyRVZAAAAA4KNIVkAAAADgfFdWQAAAAGC6OVZAAAAA4CI7VkAAAAAgsj1WQAAAAEAIZFZAAAAAQAwqVkAAAABgZl5WQAAAAMD3U1ZAAAAAwPdDVkAAAADgeDFWQAAAAEAM+lVAAAAAwHZOVkAAAABgukFWQAAAAIA98lVAAAAAIDEIVkAAAADAyB5WQAAAAGDjHVZAAAAAQAofVkAAAACAbB9WQAAAAIBsH1ZAAAAAANcTVkAAAACAFjlWQAAAAIBsH1ZAAAAAoEcBVkAAAADAS9dVQAAAAAACO1ZAAAAAAFQrVkAAAAAAqiFWQAAAAMD1GFZAAAAAwB4NVkAAAABAjTdWQAAAAABWRlZAAAAAoBw6VkAAAAAgBklWQAAAAACBDVZAAAAAwHJwVkAAAADgUXhWQAAAAEDhelZAAAAAYA59VkAAAACgmVlWQAAAAGAQiFZAAAAAILKNVkAAAADAS49WQAAAAEDhelZAAAAAYDtnVkAAAACA6W5WQAAAAGASk1ZAAAAAIDGwVkAAAADAcrhWQAAAAGA5nFZAAAAA4NCCVkAAAAAAgXVWQAAAAGC4jlZAAAAAAH+qVkAAAACgxrNWQAAAACBcv1ZAAAAAoJusVkAAAABANZ5WQAAAAADTtVZAAAAAQN+fVkAAAADgp6ZWQAAAACAE5lZAAAAAYDnUVkAAAACAP61WQAAAAKBDe1ZAAAAA4NDaVkAAAABAiSlXQAAAAACBbVdAAAAAgJVzV0AAAACgGJRXQAAAAABWpldAAAAAQDPDV0AAAABA4bJXQAAAAOB4kVdAAAAAYONtV0AAAADgT6VXQAAAACAxqFdAAAAAoO+HV0AAAABgumlXQAAAAOBNOldAAAAAoJsUV0AAAACg7w9XQAAAAOAi+1ZAAAAAQI0fV0AAAABANcZWQAAAAMByGFdAAAAAANMVV0AAAABgEEhXQAAAAGDjhVdAAAAAYLhGV0AAAABADGpXQAAAAEDfp1dAAAAA4Hq0V0AAAAAghz5YQAAAAMD1cFhAAAAAQApfWEAAAABgkS1YQAAAAECNX1hAAAAA4CZBWEAAAABgZiZYQAAAAIDpJlhAAAAAoJs8WEAAAADgzj9YQAAAAECLRFhAAAAA4Hg5WEAAAAAAAPBXQAAAAEDf71dAAAAAANWwV0AAAABADNJXQAAAAIA94ldAAAAAAP7sV0AAAAAgsPpXQAAAAOCnvldAAAAAAFaGV0AAAABgEtNXQAAAAIA92ldAAAAA4KXjV0AAAABA369XQAAAACDd9FdAAAAAYOMdWEAAAACAP0VYQAAAAGDnO1hAAAAAQN/vV0AAAAAAKTRYQAAAAOD7KVhAAAAA4FH4V0AAAACAl0ZYQAAAACCy/VdAAAAAQDNrWEAAAACgGl9YQAAAAIBBgFhAAAAAIIeOWEAAAACAlTNYQAAAAAApdFhAAAAAQAh0WEAAAACAPZJYQAAAACBazFhAAAAA4PnWWEAAAAAA/sRYQAAAAMBywFhAAAAAwEvHWEAAAADAIPhYQAAAAIAWsVhAAAAAoHAVWUAAAABg4+1YQAAAAKBuGllAAAAAQOECWUAAAACAwMpYQAAAAEC2O1lAAAAA4KNAWUAAAADgTz1ZQAAAAOD5HllAAAAAANcbWUAAAAAgWiRZQAAAAMChHVlAAAAAYGQbWUAAAADAyA5ZQAAAAGA7z1hAAAAAwPUQWUAAAACgGu9YQAAAAOAk9lhAAAAAwJ33WEAAAABAYghZQAAAAMDzLVlAAAAAoO9PWUAAAADgJmlZQAAAAOD7YVlAAAAAgMJNWUAAAAAgLx1ZQAAAACDbIVlAAAAAgBYJWUAAAADgePlYQAAAAKAYtFhAAAAAACtfWUAAAAAgXGdZQAAAAMDIjllAAAAAoMSAWUAAAADAIHBZQAAAAOCjcFlAAAAA4KOQWUAAAACAFJZZQAAAAOBPhVlAAAAAoO1MWUAAAABAiXFZQAAAAOAiU1lAAAAA4KVTWUAAAABAM1NZQAAAAOBNGllAAAAAQOFqWUAAAACg8XpZQAAAAICTgFlAAAAAgOmOWUAAAABANXZZQAAAAIBowVlAAAAAQOGSWUAAAADAS6dZQAAAAABWrllAAAAAwB7NWUAAAAAgBN5ZQAAAAEAMyllAAAAAANO9WUAAAADAIOBZQAAAAIBBoFlAAAAAgD/lWUAAAABAjQ9aQAAAAGDn61lAAAAAIFz3WUAAAAAAANhZQAAAAAAACFpAAAAAwKE1WkAAAADgpQtaQAAAAMDM3FlAAAAAgD3qWUAAAABguP5ZQAAAAOAiC1pAAAAAwMj+WUAAAAAArPxZQAAAAOBPBVpAAAAAwPfzWUAAAABAYNVZQAAAAEBeyllAAAAAACmsWUAAAADA9ahZQAAAAKBFnllAAAAAwAyRWUA=",
          "dtype": "f8"
         },
         "yaxis": "y"
        },
        {
         "hovertemplate": "variable=JPY_INR<br>Date=%{x}<br>value=%{y}<extra></extra>",
         "legendgroup": "JPY_INR",
         "line": {
          "color": "#00cc96",
          "dash": "solid"
         },
         "marker": {
          "symbol": "circle"
         },
         "mode": "lines",
         "name": "JPY_INR",
         "showlegend": true,
         "type": "scattergl",
         "x": [
          "2024-10-15",
          "2024-10-16",
          "2024-10-17",
          "2024-10-18",
          "2024-10-21",
          "2024-10-22",
          "2024-10-23",
          "2024-10-24",
          "2024-10-25",
          "2024-10-28",
          "2024-10-29",
          "2024-10-30",
          "2024-10-31",
          "2024-11-01",
          "2024-11-04",
          "2024-11-05",
          "2024-11-06",
          "2024-11-07",
          "2024-11-08",
          "2024-11-11",
          "2024-11-12",
          "2024-11-13",
          "2024-11-14",
          "2024-11-15",
          "2024-11-18",
          "2024-11-19",
          "2024-11-20",
          "2024-11-21",
          "2024-11-22",
          "2024-11-25",
          "2024-11-26",
          "2024-11-27",
          "2024-11-28",
          "2024-11-29",
          "2024-12-02",
          "2024-12-03",
          "2024-12-04",
          "2024-12-05",
          "2024-12-06",
          "2024-12-09",
          "2024-12-10",
          "2024-12-11",
          "2024-12-12",
          "2024-12-13",
          "2024-12-16",
          "2024-12-17",
          "2024-12-18",
          "2024-12-19",
          "2024-12-20",
          "2024-12-23",
          "2024-12-24",
          "2024-12-25",
          "2024-12-26",
          "2024-12-27",
          "2024-12-30",
          "2024-12-31",
          "2025-01-02",
          "2025-01-03",
          "2025-01-06",
          "2025-01-07",
          "2025-01-08",
          "2025-01-09",
          "2025-01-10",
          "2025-01-13",
          "2025-01-14",
          "2025-01-15",
          "2025-01-16",
          "2025-01-17",
          "2025-01-20",
          "2025-01-21",
          "2025-01-22",
          "2025-01-23",
          "2025-01-24",
          "2025-01-27",
          "2025-01-28",
          "2025-01-29",
          "2025-01-30",
          "2025-01-31",
          "2025-02-03",
          "2025-02-04",
          "2025-02-05",
          "2025-02-06",
          "2025-02-07",
          "2025-02-10",
          "2025-02-11",
          "2025-02-12",
          "2025-02-13",
          "2025-02-14",
          "2025-02-17",
          "2025-02-18",
          "2025-02-19",
          "2025-02-20",
          "2025-02-21",
          "2025-02-24",
          "2025-02-25",
          "2025-02-26",
          "2025-02-27",
          "2025-02-28",
          "2025-03-03",
          "2025-03-04",
          "2025-03-05",
          "2025-03-06",
          "2025-03-07",
          "2025-03-10",
          "2025-03-11",
          "2025-03-12",
          "2025-03-13",
          "2025-03-14",
          "2025-03-17",
          "2025-03-18",
          "2025-03-19",
          "2025-03-20",
          "2025-03-21",
          "2025-03-24",
          "2025-03-25",
          "2025-03-26",
          "2025-03-27",
          "2025-03-28",
          "2025-03-31",
          "2025-04-01",
          "2025-04-02",
          "2025-04-03",
          "2025-04-04",
          "2025-04-07",
          "2025-04-08",
          "2025-04-09",
          "2025-04-10",
          "2025-04-11",
          "2025-04-14",
          "2025-04-15",
          "2025-04-16",
          "2025-04-17",
          "2025-04-22",
          "2025-04-23",
          "2025-04-24",
          "2025-04-25",
          "2025-04-28",
          "2025-04-29",
          "2025-04-30",
          "2025-05-01",
          "2025-05-02",
          "2025-05-05",
          "2025-05-06",
          "2025-05-07",
          "2025-05-08",
          "2025-05-09",
          "2025-05-12",
          "2025-05-13",
          "2025-05-14",
          "2025-05-15",
          "2025-05-16",
          "2025-05-19",
          "2025-05-20",
          "2025-05-21",
          "2025-05-22",
          "2025-05-23",
          "2025-05-26",
          "2025-05-27",
          "2025-05-28",
          "2025-05-29",
          "2025-05-30",
          "2025-06-02",
          "2025-06-03",
          "2025-06-04",
          "2025-06-05",
          "2025-06-06",
          "2025-06-09",
          "2025-06-10",
          "2025-06-11",
          "2025-06-12",
          "2025-06-13",
          "2025-06-16",
          "2025-06-17",
          "2025-06-18",
          "2025-06-19",
          "2025-06-20",
          "2025-06-23",
          "2025-06-24",
          "2025-06-25",
          "2025-06-26",
          "2025-06-27",
          "2025-06-30",
          "2025-07-01",
          "2025-07-02",
          "2025-07-03",
          "2025-07-04",
          "2025-07-07",
          "2025-07-08",
          "2025-07-09",
          "2025-07-10",
          "2025-07-11",
          "2025-07-14",
          "2025-07-15",
          "2025-07-16",
          "2025-07-17",
          "2025-07-18",
          "2025-07-21",
          "2025-07-22",
          "2025-07-23",
          "2025-07-24",
          "2025-07-25",
          "2025-07-28",
          "2025-07-29",
          "2025-07-30",
          "2025-07-31",
          "2025-08-01",
          "2025-08-04",
          "2025-08-05",
          "2025-08-06",
          "2025-08-07",
          "2025-08-08",
          "2025-08-11",
          "2025-08-12",
          "2025-08-13",
          "2025-08-14",
          "2025-08-15",
          "2025-08-18",
          "2025-08-19",
          "2025-08-20",
          "2025-08-21",
          "2025-08-22",
          "2025-08-25",
          "2025-08-26",
          "2025-08-27",
          "2025-08-28",
          "2025-08-29",
          "2025-09-01",
          "2025-09-02",
          "2025-09-03",
          "2025-09-04",
          "2025-09-05",
          "2025-09-08",
          "2025-09-09",
          "2025-09-10",
          "2025-09-11",
          "2025-09-12",
          "2025-09-15",
          "2025-09-16",
          "2025-09-17",
          "2025-09-18",
          "2025-09-19",
          "2025-09-22",
          "2025-09-23",
          "2025-09-24",
          "2025-09-25",
          "2025-09-26",
          "2025-09-29",
          "2025-09-30",
          "2025-10-01",
          "2025-10-02",
          "2025-10-03",
          "2025-10-06",
          "2025-10-07",
          "2025-10-08",
          "2025-10-09",
          "2025-10-10",
          "2025-10-13",
          "2025-10-14",
          "2025-10-15"
         ],
         "xaxis": "x",
         "y": {
          "bdata": "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",
          "dtype": "f8"
         },
         "yaxis": "y"
        },
        {
         "hovertemplate": "variable=GBP_INR<br>Date=%{x}<br>value=%{y}<extra></extra>",
         "legendgroup": "GBP_INR",
         "line": {
          "color": "#ab63fa",
          "dash": "solid"
         },
         "marker": {
          "symbol": "circle"
         },
         "mode": "lines",
         "name": "GBP_INR",
         "showlegend": true,
         "type": "scattergl",
         "x": [
          "2024-10-15",
          "2024-10-16",
          "2024-10-17",
          "2024-10-18",
          "2024-10-21",
          "2024-10-22",
          "2024-10-23",
          "2024-10-24",
          "2024-10-25",
          "2024-10-28",
          "2024-10-29",
          "2024-10-30",
          "2024-10-31",
          "2024-11-01",
          "2024-11-04",
          "2024-11-05",
          "2024-11-06",
          "2024-11-07",
          "2024-11-08",
          "2024-11-11",
          "2024-11-12",
          "2024-11-13",
          "2024-11-14",
          "2024-11-15",
          "2024-11-18",
          "2024-11-19",
          "2024-11-20",
          "2024-11-21",
          "2024-11-22",
          "2024-11-25",
          "2024-11-26",
          "2024-11-27",
          "2024-11-28",
          "2024-11-29",
          "2024-12-02",
          "2024-12-03",
          "2024-12-04",
          "2024-12-05",
          "2024-12-06",
          "2024-12-09",
          "2024-12-10",
          "2024-12-11",
          "2024-12-12",
          "2024-12-13",
          "2024-12-16",
          "2024-12-17",
          "2024-12-18",
          "2024-12-19",
          "2024-12-20",
          "2024-12-23",
          "2024-12-24",
          "2024-12-25",
          "2024-12-26",
          "2024-12-27",
          "2024-12-30",
          "2024-12-31",
          "2025-01-02",
          "2025-01-03",
          "2025-01-06",
          "2025-01-07",
          "2025-01-08",
          "2025-01-09",
          "2025-01-10",
          "2025-01-13",
          "2025-01-14",
          "2025-01-15",
          "2025-01-16",
          "2025-01-17",
          "2025-01-20",
          "2025-01-21",
          "2025-01-22",
          "2025-01-23",
          "2025-01-24",
          "2025-01-27",
          "2025-01-28",
          "2025-01-29",
          "2025-01-30",
          "2025-01-31",
          "2025-02-03",
          "2025-02-04",
          "2025-02-05",
          "2025-02-06",
          "2025-02-07",
          "2025-02-10",
          "2025-02-11",
          "2025-02-12",
          "2025-02-13",
          "2025-02-14",
          "2025-02-17",
          "2025-02-18",
          "2025-02-19",
          "2025-02-20",
          "2025-02-21",
          "2025-02-24",
          "2025-02-25",
          "2025-02-26",
          "2025-02-27",
          "2025-02-28",
          "2025-03-03",
          "2025-03-04",
          "2025-03-05",
          "2025-03-06",
          "2025-03-07",
          "2025-03-10",
          "2025-03-11",
          "2025-03-12",
          "2025-03-13",
          "2025-03-14",
          "2025-03-17",
          "2025-03-18",
          "2025-03-19",
          "2025-03-20",
          "2025-03-21",
          "2025-03-24",
          "2025-03-25",
          "2025-03-26",
          "2025-03-27",
          "2025-03-28",
          "2025-03-31",
          "2025-04-01",
          "2025-04-02",
          "2025-04-03",
          "2025-04-04",
          "2025-04-07",
          "2025-04-08",
          "2025-04-09",
          "2025-04-10",
          "2025-04-11",
          "2025-04-14",
          "2025-04-15",
          "2025-04-16",
          "2025-04-17",
          "2025-04-22",
          "2025-04-23",
          "2025-04-24",
          "2025-04-25",
          "2025-04-28",
          "2025-04-29",
          "2025-04-30",
          "2025-05-01",
          "2025-05-02",
          "2025-05-05",
          "2025-05-06",
          "2025-05-07",
          "2025-05-08",
          "2025-05-09",
          "2025-05-12",
          "2025-05-13",
          "2025-05-14",
          "2025-05-15",
          "2025-05-16",
          "2025-05-19",
          "2025-05-20",
          "2025-05-21",
          "2025-05-22",
          "2025-05-23",
          "2025-05-26",
          "2025-05-27",
          "2025-05-28",
          "2025-05-29",
          "2025-05-30",
          "2025-06-02",
          "2025-06-03",
          "2025-06-04",
          "2025-06-05",
          "2025-06-06",
          "2025-06-09",
          "2025-06-10",
          "2025-06-11",
          "2025-06-12",
          "2025-06-13",
          "2025-06-16",
          "2025-06-17",
          "2025-06-18",
          "2025-06-19",
          "2025-06-20",
          "2025-06-23",
          "2025-06-24",
          "2025-06-25",
          "2025-06-26",
          "2025-06-27",
          "2025-06-30",
          "2025-07-01",
          "2025-07-02",
          "2025-07-03",
          "2025-07-04",
          "2025-07-07",
          "2025-07-08",
          "2025-07-09",
          "2025-07-10",
          "2025-07-11",
          "2025-07-14",
          "2025-07-15",
          "2025-07-16",
          "2025-07-17",
          "2025-07-18",
          "2025-07-21",
          "2025-07-22",
          "2025-07-23",
          "2025-07-24",
          "2025-07-25",
          "2025-07-28",
          "2025-07-29",
          "2025-07-30",
          "2025-07-31",
          "2025-08-01",
          "2025-08-04",
          "2025-08-05",
          "2025-08-06",
          "2025-08-07",
          "2025-08-08",
          "2025-08-11",
          "2025-08-12",
          "2025-08-13",
          "2025-08-14",
          "2025-08-15",
          "2025-08-18",
          "2025-08-19",
          "2025-08-20",
          "2025-08-21",
          "2025-08-22",
          "2025-08-25",
          "2025-08-26",
          "2025-08-27",
          "2025-08-28",
          "2025-08-29",
          "2025-09-01",
          "2025-09-02",
          "2025-09-03",
          "2025-09-04",
          "2025-09-05",
          "2025-09-08",
          "2025-09-09",
          "2025-09-10",
          "2025-09-11",
          "2025-09-12",
          "2025-09-15",
          "2025-09-16",
          "2025-09-17",
          "2025-09-18",
          "2025-09-19",
          "2025-09-22",
          "2025-09-23",
          "2025-09-24",
          "2025-09-25",
          "2025-09-26",
          "2025-09-29",
          "2025-09-30",
          "2025-10-01",
          "2025-10-02",
          "2025-10-03",
          "2025-10-06",
          "2025-10-07",
          "2025-10-08",
          "2025-10-09",
          "2025-10-10",
          "2025-10-13",
          "2025-10-14",
          "2025-10-15"
         ],
         "xaxis": "x",
         "y": {
          "bdata": "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",
          "dtype": "f8"
         },
         "yaxis": "y"
        }
       ],
       "layout": {
        "legend": {
         "title": {
          "text": "variable"
         },
         "tracegroupgap": 0
        },
        "template": {
         "data": {
          "bar": [
           {
            "error_x": {
             "color": "#2a3f5f"
            },
            "error_y": {
             "color": "#2a3f5f"
            },
            "marker": {
             "line": {
              "color": "#E5ECF6",
              "width": 0.5
             },
             "pattern": {
              "fillmode": "overlay",
              "size": 10,
              "solidity": 0.2
             }
            },
            "type": "bar"
           }
          ],
          "barpolar": [
           {
            "marker": {
             "line": {
              "color": "#E5ECF6",
              "width": 0.5
             },
             "pattern": {
              "fillmode": "overlay",
              "size": 10,
              "solidity": 0.2
             }
            },
            "type": "barpolar"
           }
          ],
          "carpet": [
           {
            "aaxis": {
             "endlinecolor": "#2a3f5f",
             "gridcolor": "white",
             "linecolor": "white",
             "minorgridcolor": "white",
             "startlinecolor": "#2a3f5f"
            },
            "baxis": {
             "endlinecolor": "#2a3f5f",
             "gridcolor": "white",
             "linecolor": "white",
             "minorgridcolor": "white",
             "startlinecolor": "#2a3f5f"
            },
            "type": "carpet"
           }
          ],
          "choropleth": [
           {
            "colorbar": {
             "outlinewidth": 0,
             "ticks": ""
            },
            "type": "choropleth"
           }
          ],
          "contour": [
           {
            "colorbar": {
             "outlinewidth": 0,
             "ticks": ""
            },
            "colorscale": [
             [
              0,
              "#0d0887"
             ],
             [
              0.1111111111111111,
              "#46039f"
             ],
             [
              0.2222222222222222,
              "#7201a8"
             ],
             [
              0.3333333333333333,
              "#9c179e"
             ],
             [
              0.4444444444444444,
              "#bd3786"
             ],
             [
              0.5555555555555556,
              "#d8576b"
             ],
             [
              0.6666666666666666,
              "#ed7953"
             ],
             [
              0.7777777777777778,
              "#fb9f3a"
             ],
             [
              0.8888888888888888,
              "#fdca26"
             ],
             [
              1,
              "#f0f921"
             ]
            ],
            "type": "contour"
           }
          ],
          "contourcarpet": [
           {
            "colorbar": {
             "outlinewidth": 0,
             "ticks": ""
            },
            "type": "contourcarpet"
           }
          ],
          "heatmap": [
           {
            "colorbar": {
             "outlinewidth": 0,
             "ticks": ""
            },
            "colorscale": [
             [
              0,
              "#0d0887"
             ],
             [
              0.1111111111111111,
              "#46039f"
             ],
             [
              0.2222222222222222,
              "#7201a8"
             ],
             [
              0.3333333333333333,
              "#9c179e"
             ],
             [
              0.4444444444444444,
              "#bd3786"
             ],
             [
              0.5555555555555556,
              "#d8576b"
             ],
             [
              0.6666666666666666,
              "#ed7953"
             ],
             [
              0.7777777777777778,
              "#fb9f3a"
             ],
             [
              0.8888888888888888,
              "#fdca26"
             ],
             [
              1,
              "#f0f921"
             ]
            ],
            "type": "heatmap"
           }
          ],
          "histogram": [
           {
            "marker": {
             "pattern": {
              "fillmode": "overlay",
              "size": 10,
              "solidity": 0.2
             }
            },
            "type": "histogram"
           }
          ],
          "histogram2d": [
           {
            "colorbar": {
             "outlinewidth": 0,
             "ticks": ""
            },
            "colorscale": [
             [
              0,
              "#0d0887"
             ],
             [
              0.1111111111111111,
              "#46039f"
             ],
             [
              0.2222222222222222,
              "#7201a8"
             ],
             [
              0.3333333333333333,
              "#9c179e"
             ],
             [
              0.4444444444444444,
              "#bd3786"
             ],
             [
              0.5555555555555556,
              "#d8576b"
             ],
             [
              0.6666666666666666,
              "#ed7953"
             ],
             [
              0.7777777777777778,
              "#fb9f3a"
             ],
             [
              0.8888888888888888,
              "#fdca26"
             ],
             [
              1,
              "#f0f921"
             ]
            ],
            "type": "histogram2d"
           }
          ],
          "histogram2dcontour": [
           {
            "colorbar": {
             "outlinewidth": 0,
             "ticks": ""
            },
            "colorscale": [
             [
              0,
              "#0d0887"
             ],
             [
              0.1111111111111111,
              "#46039f"
             ],
             [
              0.2222222222222222,
              "#7201a8"
             ],
             [
              0.3333333333333333,
              "#9c179e"
             ],
             [
              0.4444444444444444,
              "#bd3786"
             ],
             [
              0.5555555555555556,
              "#d8576b"
             ],
             [
              0.6666666666666666,
              "#ed7953"
             ],
             [
              0.7777777777777778,
              "#fb9f3a"
             ],
             [
              0.8888888888888888,
              "#fdca26"
             ],
             [
              1,
              "#f0f921"
             ]
            ],
            "type": "histogram2dcontour"
           }
          ],
          "mesh3d": [
           {
            "colorbar": {
             "outlinewidth": 0,
             "ticks": ""
            },
            "type": "mesh3d"
           }
          ],
          "parcoords": [
           {
            "line": {
             "colorbar": {
              "outlinewidth": 0,
              "ticks": ""
             }
            },
            "type": "parcoords"
           }
          ],
          "pie": [
           {
            "automargin": true,
            "type": "pie"
           }
          ],
          "scatter": [
           {
            "fillpattern": {
             "fillmode": "overlay",
             "size": 10,
             "solidity": 0.2
            },
            "type": "scatter"
           }
          ],
          "scatter3d": [
           {
            "line": {
             "colorbar": {
              "outlinewidth": 0,
              "ticks": ""
             }
            },
            "marker": {
             "colorbar": {
              "outlinewidth": 0,
              "ticks": ""
             }
            },
            "type": "scatter3d"
           }
          ],
          "scattercarpet": [
           {
            "marker": {
             "colorbar": {
              "outlinewidth": 0,
              "ticks": ""
             }
            },
            "type": "scattercarpet"
           }
          ],
          "scattergeo": [
           {
            "marker": {
             "colorbar": {
              "outlinewidth": 0,
              "ticks": ""
             }
            },
            "type": "scattergeo"
           }
          ],
          "scattergl": [
           {
            "marker": {
             "colorbar": {
              "outlinewidth": 0,
              "ticks": ""
             }
            },
            "type": "scattergl"
           }
          ],
          "scattermap": [
           {
            "marker": {
             "colorbar": {
              "outlinewidth": 0,
              "ticks": ""
             }
            },
            "type": "scattermap"
           }
          ],
          "scattermapbox": [
           {
            "marker": {
             "colorbar": {
              "outlinewidth": 0,
              "ticks": ""
             }
            },
            "type": "scattermapbox"
           }
          ],
          "scatterpolar": [
           {
            "marker": {
             "colorbar": {
              "outlinewidth": 0,
              "ticks": ""
             }
            },
            "type": "scatterpolar"
           }
          ],
          "scatterpolargl": [
           {
            "marker": {
             "colorbar": {
              "outlinewidth": 0,
              "ticks": ""
             }
            },
            "type": "scatterpolargl"
           }
          ],
          "scatterternary": [
           {
            "marker": {
             "colorbar": {
              "outlinewidth": 0,
              "ticks": ""
             }
            },
            "type": "scatterternary"
           }
          ],
          "surface": [
           {
            "colorbar": {
             "outlinewidth": 0,
             "ticks": ""
            },
            "colorscale": [
             [
              0,
              "#0d0887"
             ],
             [
              0.1111111111111111,
              "#46039f"
             ],
             [
              0.2222222222222222,
              "#7201a8"
             ],
             [
              0.3333333333333333,
              "#9c179e"
             ],
             [
              0.4444444444444444,
              "#bd3786"
             ],
             [
              0.5555555555555556,
              "#d8576b"
             ],
             [
              0.6666666666666666,
              "#ed7953"
             ],
             [
              0.7777777777777778,
              "#fb9f3a"
             ],
             [
              0.8888888888888888,
              "#fdca26"
             ],
             [
              1,
              "#f0f921"
             ]
            ],
            "type": "surface"
           }
          ],
          "table": [
           {
            "cells": {
             "fill": {
              "color": "#EBF0F8"
             },
             "line": {
              "color": "white"
             }
            },
            "header": {
             "fill": {
              "color": "#C8D4E3"
             },
             "line": {
              "color": "white"
             }
            },
            "type": "table"
           }
          ]
         },
         "layout": {
          "annotationdefaults": {
           "arrowcolor": "#2a3f5f",
           "arrowhead": 0,
           "arrowwidth": 1
          },
          "autotypenumbers": "strict",
          "coloraxis": {
           "colorbar": {
            "outlinewidth": 0,
            "ticks": ""
           }
          },
          "colorscale": {
           "diverging": [
            [
             0,
             "#8e0152"
            ],
            [
             0.1,
             "#c51b7d"
            ],
            [
             0.2,
             "#de77ae"
            ],
            [
             0.3,
             "#f1b6da"
            ],
            [
             0.4,
             "#fde0ef"
            ],
            [
             0.5,
             "#f7f7f7"
            ],
            [
             0.6,
             "#e6f5d0"
            ],
            [
             0.7,
             "#b8e186"
            ],
            [
             0.8,
             "#7fbc41"
            ],
            [
             0.9,
             "#4d9221"
            ],
            [
             1,
             "#276419"
            ]
           ],
           "sequential": [
            [
             0,
             "#0d0887"
            ],
            [
             0.1111111111111111,
             "#46039f"
            ],
            [
             0.2222222222222222,
             "#7201a8"
            ],
            [
             0.3333333333333333,
             "#9c179e"
            ],
            [
             0.4444444444444444,
             "#bd3786"
            ],
            [
             0.5555555555555556,
             "#d8576b"
            ],
            [
             0.6666666666666666,
             "#ed7953"
            ],
            [
             0.7777777777777778,
             "#fb9f3a"
            ],
            [
             0.8888888888888888,
             "#fdca26"
            ],
            [
             1,
             "#f0f921"
            ]
           ],
           "sequentialminus": [
            [
             0,
             "#0d0887"
            ],
            [
             0.1111111111111111,
             "#46039f"
            ],
            [
             0.2222222222222222,
             "#7201a8"
            ],
            [
             0.3333333333333333,
             "#9c179e"
            ],
            [
             0.4444444444444444,
             "#bd3786"
            ],
            [
             0.5555555555555556,
             "#d8576b"
            ],
            [
             0.6666666666666666,
             "#ed7953"
            ],
            [
             0.7777777777777778,
             "#fb9f3a"
            ],
            [
             0.8888888888888888,
             "#fdca26"
            ],
            [
             1,
             "#f0f921"
            ]
           ]
          },
          "colorway": [
           "#636efa",
           "#EF553B",
           "#00cc96",
           "#ab63fa",
           "#FFA15A",
           "#19d3f3",
           "#FF6692",
           "#B6E880",
           "#FF97FF",
           "#FECB52"
          ],
          "font": {
           "color": "#2a3f5f"
          },
          "geo": {
           "bgcolor": "white",
           "lakecolor": "white",
           "landcolor": "#E5ECF6",
           "showlakes": true,
           "showland": true,
           "subunitcolor": "white"
          },
          "hoverlabel": {
           "align": "left"
          },
          "hovermode": "closest",
          "mapbox": {
           "style": "light"
          },
          "paper_bgcolor": "white",
          "plot_bgcolor": "#E5ECF6",
          "polar": {
           "angularaxis": {
            "gridcolor": "white",
            "linecolor": "white",
            "ticks": ""
           },
           "bgcolor": "#E5ECF6",
           "radialaxis": {
            "gridcolor": "white",
            "linecolor": "white",
            "ticks": ""
           }
          },
          "scene": {
           "xaxis": {
            "backgroundcolor": "#E5ECF6",
            "gridcolor": "white",
            "gridwidth": 2,
            "linecolor": "white",
            "showbackground": true,
            "ticks": "",
            "zerolinecolor": "white"
           },
           "yaxis": {
            "backgroundcolor": "#E5ECF6",
            "gridcolor": "white",
            "gridwidth": 2,
            "linecolor": "white",
            "showbackground": true,
            "ticks": "",
            "zerolinecolor": "white"
           },
           "zaxis": {
            "backgroundcolor": "#E5ECF6",
            "gridcolor": "white",
            "gridwidth": 2,
            "linecolor": "white",
            "showbackground": true,
            "ticks": "",
            "zerolinecolor": "white"
           }
          },
          "shapedefaults": {
           "line": {
            "color": "#2a3f5f"
           }
          },
          "ternary": {
           "aaxis": {
            "gridcolor": "white",
            "linecolor": "white",
            "ticks": ""
           },
           "baxis": {
            "gridcolor": "white",
            "linecolor": "white",
            "ticks": ""
           },
           "bgcolor": "#E5ECF6",
           "caxis": {
            "gridcolor": "white",
            "linecolor": "white",
            "ticks": ""
           }
          },
          "title": {
           "x": 0.05
          },
          "xaxis": {
           "automargin": true,
           "gridcolor": "white",
           "linecolor": "white",
           "ticks": "",
           "title": {
            "standoff": 15
           },
           "zerolinecolor": "white",
           "zerolinewidth": 2
          },
          "yaxis": {
           "automargin": true,
           "gridcolor": "white",
           "linecolor": "white",
           "ticks": "",
           "title": {
            "standoff": 15
           },
           "zerolinecolor": "white",
           "zerolinewidth": 2
          }
         }
        },
        "title": {
         "text": "Values of currencies wrt INR"
        },
        "xaxis": {
         "anchor": "y",
         "domain": [
          0,
          1
         ],
         "title": {
          "text": "Date"
         }
        },
        "yaxis": {
         "anchor": "x",
         "domain": [
          0,
          1
         ],
         "title": {
          "text": "value"
         }
        }
       }
      }
     },
     "metadata": {},
     "output_type": "display_data"
    }
   ],
   "source": [
    "cols = [col for col in df.columns if col != 'Date']\n",
    "fig = px.line(\n",
    "    df,\n",
    "    x=\"Date\",\n",
    "    y=cols,\n",
    "    title=f\"Values of currencies wrt INR\",\n",
    ")\n",
    "fig.show()"
   ]
  },
  {
   "cell_type": "code",
   "execution_count": 19,
   "id": "709ceb36",
   "metadata": {},
   "outputs": [
    {
     "data": {
      "text/html": [
       "<div>\n",
       "<style scoped>\n",
       "    .dataframe tbody tr th:only-of-type {\n",
       "        vertical-align: middle;\n",
       "    }\n",
       "\n",
       "    .dataframe tbody tr th {\n",
       "        vertical-align: top;\n",
       "    }\n",
       "\n",
       "    .dataframe thead th {\n",
       "        text-align: right;\n",
       "    }\n",
       "</style>\n",
       "<table border=\"1\" class=\"dataframe\">\n",
       "  <thead>\n",
       "    <tr style=\"text-align: right;\">\n",
       "      <th></th>\n",
       "      <th>USD_INR</th>\n",
       "      <th>EUR_INR</th>\n",
       "      <th>JPY_INR</th>\n",
       "      <th>GBP_INR</th>\n",
       "    </tr>\n",
       "  </thead>\n",
       "  <tbody>\n",
       "    <tr>\n",
       "      <th>1</th>\n",
       "      <td>NaN</td>\n",
       "      <td>NaN</td>\n",
       "      <td>NaN</td>\n",
       "      <td>NaN</td>\n",
       "    </tr>\n",
       "    <tr>\n",
       "      <th>2</th>\n",
       "      <td>0.000092</td>\n",
       "      <td>-0.001987</td>\n",
       "      <td>0.004132</td>\n",
       "      <td>0.000523</td>\n",
       "    </tr>\n",
       "    <tr>\n",
       "      <th>3</th>\n",
       "      <td>-0.000201</td>\n",
       "      <td>-0.003063</td>\n",
       "      <td>-0.003907</td>\n",
       "      <td>-0.006369</td>\n",
       "    </tr>\n",
       "    <tr>\n",
       "      <th>4</th>\n",
       "      <td>0.000173</td>\n",
       "      <td>-0.002019</td>\n",
       "      <td>-0.002764</td>\n",
       "      <td>0.002320</td>\n",
       "    </tr>\n",
       "    <tr>\n",
       "      <th>5</th>\n",
       "      <td>0.000177</td>\n",
       "      <td>-0.008642</td>\n",
       "      <td>-0.008244</td>\n",
       "      <td>0.002774</td>\n",
       "    </tr>\n",
       "    <tr>\n",
       "      <th>...</th>\n",
       "      <td>...</td>\n",
       "      <td>...</td>\n",
       "      <td>...</td>\n",
       "      <td>...</td>\n",
       "    </tr>\n",
       "    <tr>\n",
       "      <th>255</th>\n",
       "      <td>0.000390</td>\n",
       "      <td>-0.001664</td>\n",
       "      <td>-0.003654</td>\n",
       "      <td>-0.001091</td>\n",
       "    </tr>\n",
       "    <tr>\n",
       "      <th>256</th>\n",
       "      <td>0.000994</td>\n",
       "      <td>-0.004575</td>\n",
       "      <td>-0.000943</td>\n",
       "      <td>-0.006310</td>\n",
       "    </tr>\n",
       "    <tr>\n",
       "      <th>257</th>\n",
       "      <td>-0.001216</td>\n",
       "      <td>-0.000487</td>\n",
       "      <td>0.003105</td>\n",
       "      <td>0.002382</td>\n",
       "    </tr>\n",
       "    <tr>\n",
       "      <th>258</th>\n",
       "      <td>-0.001039</td>\n",
       "      <td>-0.001627</td>\n",
       "      <td>-0.001539</td>\n",
       "      <td>-0.002505</td>\n",
       "    </tr>\n",
       "    <tr>\n",
       "      <th>259</th>\n",
       "      <td>-0.008449</td>\n",
       "      <td>-0.002016</td>\n",
       "      <td>-0.000831</td>\n",
       "      <td>-0.005618</td>\n",
       "    </tr>\n",
       "  </tbody>\n",
       "</table>\n",
       "<p>259 rows × 4 columns</p>\n",
       "</div>"
      ],
      "text/plain": [
       "      USD_INR   EUR_INR   JPY_INR   GBP_INR\n",
       "1         NaN       NaN       NaN       NaN\n",
       "2    0.000092 -0.001987  0.004132  0.000523\n",
       "3   -0.000201 -0.003063 -0.003907 -0.006369\n",
       "4    0.000173 -0.002019 -0.002764  0.002320\n",
       "5    0.000177 -0.008642 -0.008244  0.002774\n",
       "..        ...       ...       ...       ...\n",
       "255  0.000390 -0.001664 -0.003654 -0.001091\n",
       "256  0.000994 -0.004575 -0.000943 -0.006310\n",
       "257 -0.001216 -0.000487  0.003105  0.002382\n",
       "258 -0.001039 -0.001627 -0.001539 -0.002505\n",
       "259 -0.008449 -0.002016 -0.000831 -0.005618\n",
       "\n",
       "[259 rows x 4 columns]"
      ]
     },
     "execution_count": 19,
     "metadata": {},
     "output_type": "execute_result"
    }
   ],
   "source": [
    "df.drop(columns=[\"Date\"]).pct_change()"
   ]
  },
  {
   "cell_type": "code",
   "execution_count": 20,
   "id": "e861738b",
   "metadata": {},
   "outputs": [
    {
     "data": {
      "text/plain": [
       "USD_INR    0.017821\n",
       "EUR_INR    0.045435\n",
       "JPY_INR    0.017536\n",
       "GBP_INR    0.027744\n",
       "dtype: float64"
      ]
     },
     "execution_count": 20,
     "metadata": {},
     "output_type": "execute_result"
    }
   ],
   "source": [
    "pct_changes = df.drop(columns=[\"Date\"]).pct_change()\n",
    "avg_change = pct_changes.mean() * 100  # Convert to percentage\n",
    "avg_change"
   ]
  },
  {
   "cell_type": "code",
   "execution_count": 21,
   "id": "44c06eda",
   "metadata": {},
   "outputs": [],
   "source": [
    "# Compute daily percentage change\n",
    "pct_change = df.copy()\n",
    "for col in df.columns:\n",
    "    if col != \"Date\":\n",
    "        pct_change[col] = df[col].pct_change() * 100 "
   ]
  },
  {
   "cell_type": "code",
   "execution_count": 22,
   "id": "69cfdef0",
   "metadata": {},
   "outputs": [],
   "source": [
    "cum_change = pct_change.copy()\n",
    "for col in df.columns:\n",
    "    if col != \"Date\":\n",
    "        cum_change[col] = pct_change[col].cumsum()"
   ]
  },
  {
   "cell_type": "code",
   "execution_count": 23,
   "id": "8ab4402f",
   "metadata": {},
   "outputs": [],
   "source": [
    "norm = df.copy()\n",
    "for col in df.columns:\n",
    "    if col != \"Date\":\n",
    "        norm[col] = (df[col] / df[col].iloc[0]) * 100"
   ]
  },
  {
   "cell_type": "code",
   "execution_count": 25,
   "id": "003a98fd",
   "metadata": {},
   "outputs": [
    {
     "data": {
      "application/vnd.plotly.v1+json": {
       "config": {
        "plotlyServerURL": "https://plot.ly"
       },
       "data": [
        {
         "hovertemplate": "variable=USD_INR<br>Date=%{x}<br>Index (Base=100)=%{y}<extra></extra>",
         "legendgroup": "USD_INR",
         "line": {
          "color": "#636efa",
          "dash": "solid"
         },
         "marker": {
          "symbol": "circle"
         },
         "mode": "lines",
         "name": "USD_INR",
         "showlegend": true,
         "type": "scattergl",
         "x": [
          "2024-10-15",
          "2024-10-16",
          "2024-10-17",
          "2024-10-18",
          "2024-10-21",
          "2024-10-22",
          "2024-10-23",
          "2024-10-24",
          "2024-10-25",
          "2024-10-28",
          "2024-10-29",
          "2024-10-30",
          "2024-10-31",
          "2024-11-01",
          "2024-11-04",
          "2024-11-05",
          "2024-11-06",
          "2024-11-07",
          "2024-11-08",
          "2024-11-11",
          "2024-11-12",
          "2024-11-13",
          "2024-11-14",
          "2024-11-15",
          "2024-11-18",
          "2024-11-19",
          "2024-11-20",
          "2024-11-21",
          "2024-11-22",
          "2024-11-25",
          "2024-11-26",
          "2024-11-27",
          "2024-11-28",
          "2024-11-29",
          "2024-12-02",
          "2024-12-03",
          "2024-12-04",
          "2024-12-05",
          "2024-12-06",
          "2024-12-09",
          "2024-12-10",
          "2024-12-11",
          "2024-12-12",
          "2024-12-13",
          "2024-12-16",
          "2024-12-17",
          "2024-12-18",
          "2024-12-19",
          "2024-12-20",
          "2024-12-23",
          "2024-12-24",
          "2024-12-25",
          "2024-12-26",
          "2024-12-27",
          "2024-12-30",
          "2024-12-31",
          "2025-01-02",
          "2025-01-03",
          "2025-01-06",
          "2025-01-07",
          "2025-01-08",
          "2025-01-09",
          "2025-01-10",
          "2025-01-13",
          "2025-01-14",
          "2025-01-15",
          "2025-01-16",
          "2025-01-17",
          "2025-01-20",
          "2025-01-21",
          "2025-01-22",
          "2025-01-23",
          "2025-01-24",
          "2025-01-27",
          "2025-01-28",
          "2025-01-29",
          "2025-01-30",
          "2025-01-31",
          "2025-02-03",
          "2025-02-04",
          "2025-02-05",
          "2025-02-06",
          "2025-02-07",
          "2025-02-10",
          "2025-02-11",
          "2025-02-12",
          "2025-02-13",
          "2025-02-14",
          "2025-02-17",
          "2025-02-18",
          "2025-02-19",
          "2025-02-20",
          "2025-02-21",
          "2025-02-24",
          "2025-02-25",
          "2025-02-26",
          "2025-02-27",
          "2025-02-28",
          "2025-03-03",
          "2025-03-04",
          "2025-03-05",
          "2025-03-06",
          "2025-03-07",
          "2025-03-10",
          "2025-03-11",
          "2025-03-12",
          "2025-03-13",
          "2025-03-14",
          "2025-03-17",
          "2025-03-18",
          "2025-03-19",
          "2025-03-20",
          "2025-03-21",
          "2025-03-24",
          "2025-03-25",
          "2025-03-26",
          "2025-03-27",
          "2025-03-28",
          "2025-03-31",
          "2025-04-01",
          "2025-04-02",
          "2025-04-03",
          "2025-04-04",
          "2025-04-07",
          "2025-04-08",
          "2025-04-09",
          "2025-04-10",
          "2025-04-11",
          "2025-04-14",
          "2025-04-15",
          "2025-04-16",
          "2025-04-17",
          "2025-04-22",
          "2025-04-23",
          "2025-04-24",
          "2025-04-25",
          "2025-04-28",
          "2025-04-29",
          "2025-04-30",
          "2025-05-01",
          "2025-05-02",
          "2025-05-05",
          "2025-05-06",
          "2025-05-07",
          "2025-05-08",
          "2025-05-09",
          "2025-05-12",
          "2025-05-13",
          "2025-05-14",
          "2025-05-15",
          "2025-05-16",
          "2025-05-19",
          "2025-05-20",
          "2025-05-21",
          "2025-05-22",
          "2025-05-23",
          "2025-05-26",
          "2025-05-27",
          "2025-05-28",
          "2025-05-29",
          "2025-05-30",
          "2025-06-02",
          "2025-06-03",
          "2025-06-04",
          "2025-06-05",
          "2025-06-06",
          "2025-06-09",
          "2025-06-10",
          "2025-06-11",
          "2025-06-12",
          "2025-06-13",
          "2025-06-16",
          "2025-06-17",
          "2025-06-18",
          "2025-06-19",
          "2025-06-20",
          "2025-06-23",
          "2025-06-24",
          "2025-06-25",
          "2025-06-26",
          "2025-06-27",
          "2025-06-30",
          "2025-07-01",
          "2025-07-02",
          "2025-07-03",
          "2025-07-04",
          "2025-07-07",
          "2025-07-08",
          "2025-07-09",
          "2025-07-10",
          "2025-07-11",
          "2025-07-14",
          "2025-07-15",
          "2025-07-16",
          "2025-07-17",
          "2025-07-18",
          "2025-07-21",
          "2025-07-22",
          "2025-07-23",
          "2025-07-24",
          "2025-07-25",
          "2025-07-28",
          "2025-07-29",
          "2025-07-30",
          "2025-07-31",
          "2025-08-01",
          "2025-08-04",
          "2025-08-05",
          "2025-08-06",
          "2025-08-07",
          "2025-08-08",
          "2025-08-11",
          "2025-08-12",
          "2025-08-13",
          "2025-08-14",
          "2025-08-15",
          "2025-08-18",
          "2025-08-19",
          "2025-08-20",
          "2025-08-21",
          "2025-08-22",
          "2025-08-25",
          "2025-08-26",
          "2025-08-27",
          "2025-08-28",
          "2025-08-29",
          "2025-09-01",
          "2025-09-02",
          "2025-09-03",
          "2025-09-04",
          "2025-09-05",
          "2025-09-08",
          "2025-09-09",
          "2025-09-10",
          "2025-09-11",
          "2025-09-12",
          "2025-09-15",
          "2025-09-16",
          "2025-09-17",
          "2025-09-18",
          "2025-09-19",
          "2025-09-22",
          "2025-09-23",
          "2025-09-24",
          "2025-09-25",
          "2025-09-26",
          "2025-09-29",
          "2025-09-30",
          "2025-10-01",
          "2025-10-02",
          "2025-10-03",
          "2025-10-06",
          "2025-10-07",
          "2025-10-08",
          "2025-10-09",
          "2025-10-10",
          "2025-10-13",
          "2025-10-14",
          "2025-10-15"
         ],
         "xaxis": "x",
         "y": {
          "bdata": "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",
          "dtype": "f8"
         },
         "yaxis": "y"
        },
        {
         "hovertemplate": "variable=EUR_INR<br>Date=%{x}<br>Index (Base=100)=%{y}<extra></extra>",
         "legendgroup": "EUR_INR",
         "line": {
          "color": "#EF553B",
          "dash": "solid"
         },
         "marker": {
          "symbol": "circle"
         },
         "mode": "lines",
         "name": "EUR_INR",
         "showlegend": true,
         "type": "scattergl",
         "x": [
          "2024-10-15",
          "2024-10-16",
          "2024-10-17",
          "2024-10-18",
          "2024-10-21",
          "2024-10-22",
          "2024-10-23",
          "2024-10-24",
          "2024-10-25",
          "2024-10-28",
          "2024-10-29",
          "2024-10-30",
          "2024-10-31",
          "2024-11-01",
          "2024-11-04",
          "2024-11-05",
          "2024-11-06",
          "2024-11-07",
          "2024-11-08",
          "2024-11-11",
          "2024-11-12",
          "2024-11-13",
          "2024-11-14",
          "2024-11-15",
          "2024-11-18",
          "2024-11-19",
          "2024-11-20",
          "2024-11-21",
          "2024-11-22",
          "2024-11-25",
          "2024-11-26",
          "2024-11-27",
          "2024-11-28",
          "2024-11-29",
          "2024-12-02",
          "2024-12-03",
          "2024-12-04",
          "2024-12-05",
          "2024-12-06",
          "2024-12-09",
          "2024-12-10",
          "2024-12-11",
          "2024-12-12",
          "2024-12-13",
          "2024-12-16",
          "2024-12-17",
          "2024-12-18",
          "2024-12-19",
          "2024-12-20",
          "2024-12-23",
          "2024-12-24",
          "2024-12-25",
          "2024-12-26",
          "2024-12-27",
          "2024-12-30",
          "2024-12-31",
          "2025-01-02",
          "2025-01-03",
          "2025-01-06",
          "2025-01-07",
          "2025-01-08",
          "2025-01-09",
          "2025-01-10",
          "2025-01-13",
          "2025-01-14",
          "2025-01-15",
          "2025-01-16",
          "2025-01-17",
          "2025-01-20",
          "2025-01-21",
          "2025-01-22",
          "2025-01-23",
          "2025-01-24",
          "2025-01-27",
          "2025-01-28",
          "2025-01-29",
          "2025-01-30",
          "2025-01-31",
          "2025-02-03",
          "2025-02-04",
          "2025-02-05",
          "2025-02-06",
          "2025-02-07",
          "2025-02-10",
          "2025-02-11",
          "2025-02-12",
          "2025-02-13",
          "2025-02-14",
          "2025-02-17",
          "2025-02-18",
          "2025-02-19",
          "2025-02-20",
          "2025-02-21",
          "2025-02-24",
          "2025-02-25",
          "2025-02-26",
          "2025-02-27",
          "2025-02-28",
          "2025-03-03",
          "2025-03-04",
          "2025-03-05",
          "2025-03-06",
          "2025-03-07",
          "2025-03-10",
          "2025-03-11",
          "2025-03-12",
          "2025-03-13",
          "2025-03-14",
          "2025-03-17",
          "2025-03-18",
          "2025-03-19",
          "2025-03-20",
          "2025-03-21",
          "2025-03-24",
          "2025-03-25",
          "2025-03-26",
          "2025-03-27",
          "2025-03-28",
          "2025-03-31",
          "2025-04-01",
          "2025-04-02",
          "2025-04-03",
          "2025-04-04",
          "2025-04-07",
          "2025-04-08",
          "2025-04-09",
          "2025-04-10",
          "2025-04-11",
          "2025-04-14",
          "2025-04-15",
          "2025-04-16",
          "2025-04-17",
          "2025-04-22",
          "2025-04-23",
          "2025-04-24",
          "2025-04-25",
          "2025-04-28",
          "2025-04-29",
          "2025-04-30",
          "2025-05-01",
          "2025-05-02",
          "2025-05-05",
          "2025-05-06",
          "2025-05-07",
          "2025-05-08",
          "2025-05-09",
          "2025-05-12",
          "2025-05-13",
          "2025-05-14",
          "2025-05-15",
          "2025-05-16",
          "2025-05-19",
          "2025-05-20",
          "2025-05-21",
          "2025-05-22",
          "2025-05-23",
          "2025-05-26",
          "2025-05-27",
          "2025-05-28",
          "2025-05-29",
          "2025-05-30",
          "2025-06-02",
          "2025-06-03",
          "2025-06-04",
          "2025-06-05",
          "2025-06-06",
          "2025-06-09",
          "2025-06-10",
          "2025-06-11",
          "2025-06-12",
          "2025-06-13",
          "2025-06-16",
          "2025-06-17",
          "2025-06-18",
          "2025-06-19",
          "2025-06-20",
          "2025-06-23",
          "2025-06-24",
          "2025-06-25",
          "2025-06-26",
          "2025-06-27",
          "2025-06-30",
          "2025-07-01",
          "2025-07-02",
          "2025-07-03",
          "2025-07-04",
          "2025-07-07",
          "2025-07-08",
          "2025-07-09",
          "2025-07-10",
          "2025-07-11",
          "2025-07-14",
          "2025-07-15",
          "2025-07-16",
          "2025-07-17",
          "2025-07-18",
          "2025-07-21",
          "2025-07-22",
          "2025-07-23",
          "2025-07-24",
          "2025-07-25",
          "2025-07-28",
          "2025-07-29",
          "2025-07-30",
          "2025-07-31",
          "2025-08-01",
          "2025-08-04",
          "2025-08-05",
          "2025-08-06",
          "2025-08-07",
          "2025-08-08",
          "2025-08-11",
          "2025-08-12",
          "2025-08-13",
          "2025-08-14",
          "2025-08-15",
          "2025-08-18",
          "2025-08-19",
          "2025-08-20",
          "2025-08-21",
          "2025-08-22",
          "2025-08-25",
          "2025-08-26",
          "2025-08-27",
          "2025-08-28",
          "2025-08-29",
          "2025-09-01",
          "2025-09-02",
          "2025-09-03",
          "2025-09-04",
          "2025-09-05",
          "2025-09-08",
          "2025-09-09",
          "2025-09-10",
          "2025-09-11",
          "2025-09-12",
          "2025-09-15",
          "2025-09-16",
          "2025-09-17",
          "2025-09-18",
          "2025-09-19",
          "2025-09-22",
          "2025-09-23",
          "2025-09-24",
          "2025-09-25",
          "2025-09-26",
          "2025-09-29",
          "2025-09-30",
          "2025-10-01",
          "2025-10-02",
          "2025-10-03",
          "2025-10-06",
          "2025-10-07",
          "2025-10-08",
          "2025-10-09",
          "2025-10-10",
          "2025-10-13",
          "2025-10-14",
          "2025-10-15"
         ],
         "xaxis": "x",
         "y": {
          "bdata": "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",
          "dtype": "f8"
         },
         "yaxis": "y"
        },
        {
         "hovertemplate": "variable=JPY_INR<br>Date=%{x}<br>Index (Base=100)=%{y}<extra></extra>",
         "legendgroup": "JPY_INR",
         "line": {
          "color": "#00cc96",
          "dash": "solid"
         },
         "marker": {
          "symbol": "circle"
         },
         "mode": "lines",
         "name": "JPY_INR",
         "showlegend": true,
         "type": "scattergl",
         "x": [
          "2024-10-15",
          "2024-10-16",
          "2024-10-17",
          "2024-10-18",
          "2024-10-21",
          "2024-10-22",
          "2024-10-23",
          "2024-10-24",
          "2024-10-25",
          "2024-10-28",
          "2024-10-29",
          "2024-10-30",
          "2024-10-31",
          "2024-11-01",
          "2024-11-04",
          "2024-11-05",
          "2024-11-06",
          "2024-11-07",
          "2024-11-08",
          "2024-11-11",
          "2024-11-12",
          "2024-11-13",
          "2024-11-14",
          "2024-11-15",
          "2024-11-18",
          "2024-11-19",
          "2024-11-20",
          "2024-11-21",
          "2024-11-22",
          "2024-11-25",
          "2024-11-26",
          "2024-11-27",
          "2024-11-28",
          "2024-11-29",
          "2024-12-02",
          "2024-12-03",
          "2024-12-04",
          "2024-12-05",
          "2024-12-06",
          "2024-12-09",
          "2024-12-10",
          "2024-12-11",
          "2024-12-12",
          "2024-12-13",
          "2024-12-16",
          "2024-12-17",
          "2024-12-18",
          "2024-12-19",
          "2024-12-20",
          "2024-12-23",
          "2024-12-24",
          "2024-12-25",
          "2024-12-26",
          "2024-12-27",
          "2024-12-30",
          "2024-12-31",
          "2025-01-02",
          "2025-01-03",
          "2025-01-06",
          "2025-01-07",
          "2025-01-08",
          "2025-01-09",
          "2025-01-10",
          "2025-01-13",
          "2025-01-14",
          "2025-01-15",
          "2025-01-16",
          "2025-01-17",
          "2025-01-20",
          "2025-01-21",
          "2025-01-22",
          "2025-01-23",
          "2025-01-24",
          "2025-01-27",
          "2025-01-28",
          "2025-01-29",
          "2025-01-30",
          "2025-01-31",
          "2025-02-03",
          "2025-02-04",
          "2025-02-05",
          "2025-02-06",
          "2025-02-07",
          "2025-02-10",
          "2025-02-11",
          "2025-02-12",
          "2025-02-13",
          "2025-02-14",
          "2025-02-17",
          "2025-02-18",
          "2025-02-19",
          "2025-02-20",
          "2025-02-21",
          "2025-02-24",
          "2025-02-25",
          "2025-02-26",
          "2025-02-27",
          "2025-02-28",
          "2025-03-03",
          "2025-03-04",
          "2025-03-05",
          "2025-03-06",
          "2025-03-07",
          "2025-03-10",
          "2025-03-11",
          "2025-03-12",
          "2025-03-13",
          "2025-03-14",
          "2025-03-17",
          "2025-03-18",
          "2025-03-19",
          "2025-03-20",
          "2025-03-21",
          "2025-03-24",
          "2025-03-25",
          "2025-03-26",
          "2025-03-27",
          "2025-03-28",
          "2025-03-31",
          "2025-04-01",
          "2025-04-02",
          "2025-04-03",
          "2025-04-04",
          "2025-04-07",
          "2025-04-08",
          "2025-04-09",
          "2025-04-10",
          "2025-04-11",
          "2025-04-14",
          "2025-04-15",
          "2025-04-16",
          "2025-04-17",
          "2025-04-22",
          "2025-04-23",
          "2025-04-24",
          "2025-04-25",
          "2025-04-28",
          "2025-04-29",
          "2025-04-30",
          "2025-05-01",
          "2025-05-02",
          "2025-05-05",
          "2025-05-06",
          "2025-05-07",
          "2025-05-08",
          "2025-05-09",
          "2025-05-12",
          "2025-05-13",
          "2025-05-14",
          "2025-05-15",
          "2025-05-16",
          "2025-05-19",
          "2025-05-20",
          "2025-05-21",
          "2025-05-22",
          "2025-05-23",
          "2025-05-26",
          "2025-05-27",
          "2025-05-28",
          "2025-05-29",
          "2025-05-30",
          "2025-06-02",
          "2025-06-03",
          "2025-06-04",
          "2025-06-05",
          "2025-06-06",
          "2025-06-09",
          "2025-06-10",
          "2025-06-11",
          "2025-06-12",
          "2025-06-13",
          "2025-06-16",
          "2025-06-17",
          "2025-06-18",
          "2025-06-19",
          "2025-06-20",
          "2025-06-23",
          "2025-06-24",
          "2025-06-25",
          "2025-06-26",
          "2025-06-27",
          "2025-06-30",
          "2025-07-01",
          "2025-07-02",
          "2025-07-03",
          "2025-07-04",
          "2025-07-07",
          "2025-07-08",
          "2025-07-09",
          "2025-07-10",
          "2025-07-11",
          "2025-07-14",
          "2025-07-15",
          "2025-07-16",
          "2025-07-17",
          "2025-07-18",
          "2025-07-21",
          "2025-07-22",
          "2025-07-23",
          "2025-07-24",
          "2025-07-25",
          "2025-07-28",
          "2025-07-29",
          "2025-07-30",
          "2025-07-31",
          "2025-08-01",
          "2025-08-04",
          "2025-08-05",
          "2025-08-06",
          "2025-08-07",
          "2025-08-08",
          "2025-08-11",
          "2025-08-12",
          "2025-08-13",
          "2025-08-14",
          "2025-08-15",
          "2025-08-18",
          "2025-08-19",
          "2025-08-20",
          "2025-08-21",
          "2025-08-22",
          "2025-08-25",
          "2025-08-26",
          "2025-08-27",
          "2025-08-28",
          "2025-08-29",
          "2025-09-01",
          "2025-09-02",
          "2025-09-03",
          "2025-09-04",
          "2025-09-05",
          "2025-09-08",
          "2025-09-09",
          "2025-09-10",
          "2025-09-11",
          "2025-09-12",
          "2025-09-15",
          "2025-09-16",
          "2025-09-17",
          "2025-09-18",
          "2025-09-19",
          "2025-09-22",
          "2025-09-23",
          "2025-09-24",
          "2025-09-25",
          "2025-09-26",
          "2025-09-29",
          "2025-09-30",
          "2025-10-01",
          "2025-10-02",
          "2025-10-03",
          "2025-10-06",
          "2025-10-07",
          "2025-10-08",
          "2025-10-09",
          "2025-10-10",
          "2025-10-13",
          "2025-10-14",
          "2025-10-15"
         ],
         "xaxis": "x",
         "y": {
          "bdata": "AAAAAAAAWUAtZ8rlcRpZQIGaH7dVAVlAooxkB6TvWEB0iYNtA7tYQMJ5liwP2FhAsjwFxnfGWEDeexF8yItYQJV7yL1RqVhACNAMvalhWEBmQl+JNHJYQCLMq1FebVhA1voMcQ1uWEDK572hi0JZQI7oCUw3NVhAVEXpOlGaWEDDvkTT9rlYQCDdY7ZrTFhATeGNfN2AWEBg7IYLnX1YQFsXQSYec1hAtre7aixNWED7HVoJhC1YQLID1lvIGlhAajs6af8OWEBzq4YPrU1YQEtbQlifS1hA7MShu0cxWEAH1mgUXmdYQGixN7vtBVhAc6uGD61NWEC2Q2PmHohYQJJhDWu81lhAkYakZ1rgWEBWBtAk79dYQEspUBppN1lAsM0slL4yWUBnHKVdtwtZQFfPpL7jGllA4Q6XtBHmWEADCkwaWfNYQBkH+6EN5VhAXJN5adTOWEAce4xf7MNYQOzo74sUO1hAFj2konaIWEAN9RUs6p5YQHpMD+wib1hAYSDEd/YIWEBRKSrkF9lXQH+8aYN+HFhAVVs0LpIhWEBW3MbGqgtYQHk0wPQ9+VdAh0eBb8ETWEAl/vzFVz5YQCX+/MVXPlhAAoP+88hGWEDsQsb2XUdYQAIEkYzhMFhAHpqhB+QkWEByvD50uixYQMWST31SM1hAbzAXlXdPWEB4fqfD+oNYQKIl1OufYFhAhsg5BcygWEAYWaojL9JYQIMNr3LiaFhA/gHs91+6WEDNtCPIYbZYQD3uY0hTnFhA3QDbOmSnWECA7jqUJ0tYQHq3VpH60VhAYLu3/EXGWEBhOJMLi9xYQBd0Lj9FAllAdHVdq/MHWUAKm79dUPBYQHHqfviBKllAsJsUWZZ7WUBhUi0xk8lZQHh2mOYWmVlAxiRrXD2oWUAmFSmOXVdZQCsz1KOXF1lAoq8PDOI+WUAoPWchz05ZQPvlxEkai1lAhy3eKHB1WUDpLkbO75RZQGxm/p4WyllA+sgb/dKGWUC3/AG6B8FZQHbwcr/KBlpAtbpBDdIQWkBWAFOgrexZQCU6eWB82FlArLdhPS0JWkBy9Uyx3PJZQB1MwVQ5+1lATq1oHMgpWkDT5kUeIDNaQM7gMCpKcVpAZ5K6u+k2WkDK5K56TCtaQE6taBzIKVpAtw48hLe5WUC7LGc2oddZQNNeVSwBzFlA9XvGCXPjWUD8JmLHcN5ZQFLWyd4YfllA4XTLLgZDWUAdrl9y52lZQI0jhOQJWFlAVx9oSKVNWUCvaEFGm9VYQHOlCYtrYllAUWbvqg1zWUCIFKU7fbxZQB4thq9P91lAv/Mp20O9WUB8wYF+xt9ZQOOEUnOGVlpABZlAxsAcWkCIUo0xUrNaQCBh2yfttlpAJk63LtC/WkCv/G4a2KdaQPk8DCrU3VpAzpK4zqu1WkCRX4DifpRaQDVXrPJKiVpA1p5iUweXWkAnuiEDh39aQN9I7h0FrFpAECWT7SalWkBMk63JMldaQLi+MdB2/llAY4i1yw/MWUCU4JLe5yBaQCF3JhsuPlpAcdwTxOk5WkAseGEd8hNaQAlpzR8a3FlAW7akCsJ7WUAuffSrJbxZQIp7tbrR7VlAld9JshYhWkBqphm3ygNaQOTJABpuOFpA+RzPgphiWkD+rGbBL4taQAFabhM9nlpAR/pL1uRUWkAigjv+B49aQISougN2WlpAIrfBljIaWkCbm1aqonJaQGvRRUTuLFpA5eKYPSSuWkBysaAMR4haQDCG1mwgylpASf1yCWigWkBK5VxLVERaQKvnDR2lY1pA/h92GWxQWkCFy7+ncWRaQJ8SD5sEnVpA0L9Qt387WkDhzTdA8WlaQND3fR/db1pA3UEQYa6MWkCIpDyzc6BaQOXXg1pKXVpATCloJq1rWkCX3V26tmZaQC8L51U7blpAxE47gbBaWkBeKzjK8tFZQITDPh+MilpAPGExRnWWWkDTTHqYFJBaQJKnnOZoSlpAvkNtAbVNWkDn0gMI9itaQKx7fUv8AFpAEcMV/QUcWkBL0X2zwxlaQMyVx/XqzFlAXt/kn4XqWUB96D2slb1ZQFvlB75o1llAbKMrvRjSWUD1369VRMlZQF+YpKD7CFpAbh9kAM8tWkBuu3q0/UdaQEW3iSddLVpAhWQvjG3VWUDC0gI++v5ZQChuFQOZIFpAyZaQvmsqWkAmiJccXdlZQBKIs3B3LVpAbcaPl9eYWkDn+wpk6IBaQNmp95kxilpAAL0OMz2EWkCm/Z9zxC5aQFfcvaVhWlpA17gdppxpWkBa+zGEHHhaQCqPLq80cFpA/oNfZT02WkCKwq6P3EZaQIK/zr83P1pAC3vAv0pMWkD6ApSTUzJaQH2iRtnc21lAVLXIPsFiWkD6s9IL5HZaQML4mzzqf1pA3mBLBpiQWkBKpgr8IGhaQCVkgr7ApFpAnDmSjwJhWkCwHIbEIYBaQM80qz3fd1pAjpEYulapWkBJ2SQ5m5ZaQPrloxyNpVpAJSiezI+cWkAXLxhBUbJaQDq+PNXvXFpAHUkMzbeeWkDzsxlvwrpaQMGV+xzqmVpAFiGVAHWNWkDkokTsnlpaQCISmgPOnVpAPv7JX0bKWkARxBf/V5NaQB3tkJSNYFpAd0Jber0NWkC6x1q78JRaQHRmz0d8ulpAavW5Ea3ZWkBVzM4J1dhaQImXO9g5lVpAbboxiCxIWkCQbu0YafxZQL2F9HQZ5FlAxEaU+9jdWUDyqEu2Z/JZQGwhUPgu6FlAvpxBaqziWUA=",
          "dtype": "f8"
         },
         "yaxis": "y"
        },
        {
         "hovertemplate": "variable=GBP_INR<br>Date=%{x}<br>Index (Base=100)=%{y}<extra></extra>",
         "legendgroup": "GBP_INR",
         "line": {
          "color": "#ab63fa",
          "dash": "solid"
         },
         "marker": {
          "symbol": "circle"
         },
         "mode": "lines",
         "name": "GBP_INR",
         "showlegend": true,
         "type": "scattergl",
         "x": [
          "2024-10-15",
          "2024-10-16",
          "2024-10-17",
          "2024-10-18",
          "2024-10-21",
          "2024-10-22",
          "2024-10-23",
          "2024-10-24",
          "2024-10-25",
          "2024-10-28",
          "2024-10-29",
          "2024-10-30",
          "2024-10-31",
          "2024-11-01",
          "2024-11-04",
          "2024-11-05",
          "2024-11-06",
          "2024-11-07",
          "2024-11-08",
          "2024-11-11",
          "2024-11-12",
          "2024-11-13",
          "2024-11-14",
          "2024-11-15",
          "2024-11-18",
          "2024-11-19",
          "2024-11-20",
          "2024-11-21",
          "2024-11-22",
          "2024-11-25",
          "2024-11-26",
          "2024-11-27",
          "2024-11-28",
          "2024-11-29",
          "2024-12-02",
          "2024-12-03",
          "2024-12-04",
          "2024-12-05",
          "2024-12-06",
          "2024-12-09",
          "2024-12-10",
          "2024-12-11",
          "2024-12-12",
          "2024-12-13",
          "2024-12-16",
          "2024-12-17",
          "2024-12-18",
          "2024-12-19",
          "2024-12-20",
          "2024-12-23",
          "2024-12-24",
          "2024-12-25",
          "2024-12-26",
          "2024-12-27",
          "2024-12-30",
          "2024-12-31",
          "2025-01-02",
          "2025-01-03",
          "2025-01-06",
          "2025-01-07",
          "2025-01-08",
          "2025-01-09",
          "2025-01-10",
          "2025-01-13",
          "2025-01-14",
          "2025-01-15",
          "2025-01-16",
          "2025-01-17",
          "2025-01-20",
          "2025-01-21",
          "2025-01-22",
          "2025-01-23",
          "2025-01-24",
          "2025-01-27",
          "2025-01-28",
          "2025-01-29",
          "2025-01-30",
          "2025-01-31",
          "2025-02-03",
          "2025-02-04",
          "2025-02-05",
          "2025-02-06",
          "2025-02-07",
          "2025-02-10",
          "2025-02-11",
          "2025-02-12",
          "2025-02-13",
          "2025-02-14",
          "2025-02-17",
          "2025-02-18",
          "2025-02-19",
          "2025-02-20",
          "2025-02-21",
          "2025-02-24",
          "2025-02-25",
          "2025-02-26",
          "2025-02-27",
          "2025-02-28",
          "2025-03-03",
          "2025-03-04",
          "2025-03-05",
          "2025-03-06",
          "2025-03-07",
          "2025-03-10",
          "2025-03-11",
          "2025-03-12",
          "2025-03-13",
          "2025-03-14",
          "2025-03-17",
          "2025-03-18",
          "2025-03-19",
          "2025-03-20",
          "2025-03-21",
          "2025-03-24",
          "2025-03-25",
          "2025-03-26",
          "2025-03-27",
          "2025-03-28",
          "2025-03-31",
          "2025-04-01",
          "2025-04-02",
          "2025-04-03",
          "2025-04-04",
          "2025-04-07",
          "2025-04-08",
          "2025-04-09",
          "2025-04-10",
          "2025-04-11",
          "2025-04-14",
          "2025-04-15",
          "2025-04-16",
          "2025-04-17",
          "2025-04-22",
          "2025-04-23",
          "2025-04-24",
          "2025-04-25",
          "2025-04-28",
          "2025-04-29",
          "2025-04-30",
          "2025-05-01",
          "2025-05-02",
          "2025-05-05",
          "2025-05-06",
          "2025-05-07",
          "2025-05-08",
          "2025-05-09",
          "2025-05-12",
          "2025-05-13",
          "2025-05-14",
          "2025-05-15",
          "2025-05-16",
          "2025-05-19",
          "2025-05-20",
          "2025-05-21",
          "2025-05-22",
          "2025-05-23",
          "2025-05-26",
          "2025-05-27",
          "2025-05-28",
          "2025-05-29",
          "2025-05-30",
          "2025-06-02",
          "2025-06-03",
          "2025-06-04",
          "2025-06-05",
          "2025-06-06",
          "2025-06-09",
          "2025-06-10",
          "2025-06-11",
          "2025-06-12",
          "2025-06-13",
          "2025-06-16",
          "2025-06-17",
          "2025-06-18",
          "2025-06-19",
          "2025-06-20",
          "2025-06-23",
          "2025-06-24",
          "2025-06-25",
          "2025-06-26",
          "2025-06-27",
          "2025-06-30",
          "2025-07-01",
          "2025-07-02",
          "2025-07-03",
          "2025-07-04",
          "2025-07-07",
          "2025-07-08",
          "2025-07-09",
          "2025-07-10",
          "2025-07-11",
          "2025-07-14",
          "2025-07-15",
          "2025-07-16",
          "2025-07-17",
          "2025-07-18",
          "2025-07-21",
          "2025-07-22",
          "2025-07-23",
          "2025-07-24",
          "2025-07-25",
          "2025-07-28",
          "2025-07-29",
          "2025-07-30",
          "2025-07-31",
          "2025-08-01",
          "2025-08-04",
          "2025-08-05",
          "2025-08-06",
          "2025-08-07",
          "2025-08-08",
          "2025-08-11",
          "2025-08-12",
          "2025-08-13",
          "2025-08-14",
          "2025-08-15",
          "2025-08-18",
          "2025-08-19",
          "2025-08-20",
          "2025-08-21",
          "2025-08-22",
          "2025-08-25",
          "2025-08-26",
          "2025-08-27",
          "2025-08-28",
          "2025-08-29",
          "2025-09-01",
          "2025-09-02",
          "2025-09-03",
          "2025-09-04",
          "2025-09-05",
          "2025-09-08",
          "2025-09-09",
          "2025-09-10",
          "2025-09-11",
          "2025-09-12",
          "2025-09-15",
          "2025-09-16",
          "2025-09-17",
          "2025-09-18",
          "2025-09-19",
          "2025-09-22",
          "2025-09-23",
          "2025-09-24",
          "2025-09-25",
          "2025-09-26",
          "2025-09-29",
          "2025-09-30",
          "2025-10-01",
          "2025-10-02",
          "2025-10-03",
          "2025-10-06",
          "2025-10-07",
          "2025-10-08",
          "2025-10-09",
          "2025-10-10",
          "2025-10-13",
          "2025-10-14",
          "2025-10-15"
         ],
         "xaxis": "x",
         "y": {
          "bdata": "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",
          "dtype": "f8"
         },
         "yaxis": "y"
        }
       ],
       "layout": {
        "annotations": [
         {
          "showarrow": false,
          "text": "Base Level",
          "x": 1,
          "xanchor": "right",
          "xref": "x domain",
          "y": 100,
          "yanchor": "bottom",
          "yref": "y"
         }
        ],
        "hovermode": "x unified",
        "legend": {
         "title": {
          "text": "Currency"
         },
         "tracegroupgap": 0
        },
        "shapes": [
         {
          "line": {
           "color": "gray",
           "dash": "dot"
          },
          "type": "line",
          "x0": 0,
          "x1": 1,
          "xref": "x domain",
          "y0": 100,
          "y1": 100,
          "yref": "y"
         }
        ],
        "template": {
         "data": {
          "bar": [
           {
            "error_x": {
             "color": "#2a3f5f"
            },
            "error_y": {
             "color": "#2a3f5f"
            },
            "marker": {
             "line": {
              "color": "#E5ECF6",
              "width": 0.5
             },
             "pattern": {
              "fillmode": "overlay",
              "size": 10,
              "solidity": 0.2
             }
            },
            "type": "bar"
           }
          ],
          "barpolar": [
           {
            "marker": {
             "line": {
              "color": "#E5ECF6",
              "width": 0.5
             },
             "pattern": {
              "fillmode": "overlay",
              "size": 10,
              "solidity": 0.2
             }
            },
            "type": "barpolar"
           }
          ],
          "carpet": [
           {
            "aaxis": {
             "endlinecolor": "#2a3f5f",
             "gridcolor": "white",
             "linecolor": "white",
             "minorgridcolor": "white",
             "startlinecolor": "#2a3f5f"
            },
            "baxis": {
             "endlinecolor": "#2a3f5f",
             "gridcolor": "white",
             "linecolor": "white",
             "minorgridcolor": "white",
             "startlinecolor": "#2a3f5f"
            },
            "type": "carpet"
           }
          ],
          "choropleth": [
           {
            "colorbar": {
             "outlinewidth": 0,
             "ticks": ""
            },
            "type": "choropleth"
           }
          ],
          "contour": [
           {
            "colorbar": {
             "outlinewidth": 0,
             "ticks": ""
            },
            "colorscale": [
             [
              0,
              "#0d0887"
             ],
             [
              0.1111111111111111,
              "#46039f"
             ],
             [
              0.2222222222222222,
              "#7201a8"
             ],
             [
              0.3333333333333333,
              "#9c179e"
             ],
             [
              0.4444444444444444,
              "#bd3786"
             ],
             [
              0.5555555555555556,
              "#d8576b"
             ],
             [
              0.6666666666666666,
              "#ed7953"
             ],
             [
              0.7777777777777778,
              "#fb9f3a"
             ],
             [
              0.8888888888888888,
              "#fdca26"
             ],
             [
              1,
              "#f0f921"
             ]
            ],
            "type": "contour"
           }
          ],
          "contourcarpet": [
           {
            "colorbar": {
             "outlinewidth": 0,
             "ticks": ""
            },
            "type": "contourcarpet"
           }
          ],
          "heatmap": [
           {
            "colorbar": {
             "outlinewidth": 0,
             "ticks": ""
            },
            "colorscale": [
             [
              0,
              "#0d0887"
             ],
             [
              0.1111111111111111,
              "#46039f"
             ],
             [
              0.2222222222222222,
              "#7201a8"
             ],
             [
              0.3333333333333333,
              "#9c179e"
             ],
             [
              0.4444444444444444,
              "#bd3786"
             ],
             [
              0.5555555555555556,
              "#d8576b"
             ],
             [
              0.6666666666666666,
              "#ed7953"
             ],
             [
              0.7777777777777778,
              "#fb9f3a"
             ],
             [
              0.8888888888888888,
              "#fdca26"
             ],
             [
              1,
              "#f0f921"
             ]
            ],
            "type": "heatmap"
           }
          ],
          "histogram": [
           {
            "marker": {
             "pattern": {
              "fillmode": "overlay",
              "size": 10,
              "solidity": 0.2
             }
            },
            "type": "histogram"
           }
          ],
          "histogram2d": [
           {
            "colorbar": {
             "outlinewidth": 0,
             "ticks": ""
            },
            "colorscale": [
             [
              0,
              "#0d0887"
             ],
             [
              0.1111111111111111,
              "#46039f"
             ],
             [
              0.2222222222222222,
              "#7201a8"
             ],
             [
              0.3333333333333333,
              "#9c179e"
             ],
             [
              0.4444444444444444,
              "#bd3786"
             ],
             [
              0.5555555555555556,
              "#d8576b"
             ],
             [
              0.6666666666666666,
              "#ed7953"
             ],
             [
              0.7777777777777778,
              "#fb9f3a"
             ],
             [
              0.8888888888888888,
              "#fdca26"
             ],
             [
              1,
              "#f0f921"
             ]
            ],
            "type": "histogram2d"
           }
          ],
          "histogram2dcontour": [
           {
            "colorbar": {
             "outlinewidth": 0,
             "ticks": ""
            },
            "colorscale": [
             [
              0,
              "#0d0887"
             ],
             [
              0.1111111111111111,
              "#46039f"
             ],
             [
              0.2222222222222222,
              "#7201a8"
             ],
             [
              0.3333333333333333,
              "#9c179e"
             ],
             [
              0.4444444444444444,
              "#bd3786"
             ],
             [
              0.5555555555555556,
              "#d8576b"
             ],
             [
              0.6666666666666666,
              "#ed7953"
             ],
             [
              0.7777777777777778,
              "#fb9f3a"
             ],
             [
              0.8888888888888888,
              "#fdca26"
             ],
             [
              1,
              "#f0f921"
             ]
            ],
            "type": "histogram2dcontour"
           }
          ],
          "mesh3d": [
           {
            "colorbar": {
             "outlinewidth": 0,
             "ticks": ""
            },
            "type": "mesh3d"
           }
          ],
          "parcoords": [
           {
            "line": {
             "colorbar": {
              "outlinewidth": 0,
              "ticks": ""
             }
            },
            "type": "parcoords"
           }
          ],
          "pie": [
           {
            "automargin": true,
            "type": "pie"
           }
          ],
          "scatter": [
           {
            "fillpattern": {
             "fillmode": "overlay",
             "size": 10,
             "solidity": 0.2
            },
            "type": "scatter"
           }
          ],
          "scatter3d": [
           {
            "line": {
             "colorbar": {
              "outlinewidth": 0,
              "ticks": ""
             }
            },
            "marker": {
             "colorbar": {
              "outlinewidth": 0,
              "ticks": ""
             }
            },
            "type": "scatter3d"
           }
          ],
          "scattercarpet": [
           {
            "marker": {
             "colorbar": {
              "outlinewidth": 0,
              "ticks": ""
             }
            },
            "type": "scattercarpet"
           }
          ],
          "scattergeo": [
           {
            "marker": {
             "colorbar": {
              "outlinewidth": 0,
              "ticks": ""
             }
            },
            "type": "scattergeo"
           }
          ],
          "scattergl": [
           {
            "marker": {
             "colorbar": {
              "outlinewidth": 0,
              "ticks": ""
             }
            },
            "type": "scattergl"
           }
          ],
          "scattermap": [
           {
            "marker": {
             "colorbar": {
              "outlinewidth": 0,
              "ticks": ""
             }
            },
            "type": "scattermap"
           }
          ],
          "scattermapbox": [
           {
            "marker": {
             "colorbar": {
              "outlinewidth": 0,
              "ticks": ""
             }
            },
            "type": "scattermapbox"
           }
          ],
          "scatterpolar": [
           {
            "marker": {
             "colorbar": {
              "outlinewidth": 0,
              "ticks": ""
             }
            },
            "type": "scatterpolar"
           }
          ],
          "scatterpolargl": [
           {
            "marker": {
             "colorbar": {
              "outlinewidth": 0,
              "ticks": ""
             }
            },
            "type": "scatterpolargl"
           }
          ],
          "scatterternary": [
           {
            "marker": {
             "colorbar": {
              "outlinewidth": 0,
              "ticks": ""
             }
            },
            "type": "scatterternary"
           }
          ],
          "surface": [
           {
            "colorbar": {
             "outlinewidth": 0,
             "ticks": ""
            },
            "colorscale": [
             [
              0,
              "#0d0887"
             ],
             [
              0.1111111111111111,
              "#46039f"
             ],
             [
              0.2222222222222222,
              "#7201a8"
             ],
             [
              0.3333333333333333,
              "#9c179e"
             ],
             [
              0.4444444444444444,
              "#bd3786"
             ],
             [
              0.5555555555555556,
              "#d8576b"
             ],
             [
              0.6666666666666666,
              "#ed7953"
             ],
             [
              0.7777777777777778,
              "#fb9f3a"
             ],
             [
              0.8888888888888888,
              "#fdca26"
             ],
             [
              1,
              "#f0f921"
             ]
            ],
            "type": "surface"
           }
          ],
          "table": [
           {
            "cells": {
             "fill": {
              "color": "#EBF0F8"
             },
             "line": {
              "color": "white"
             }
            },
            "header": {
             "fill": {
              "color": "#C8D4E3"
             },
             "line": {
              "color": "white"
             }
            },
            "type": "table"
           }
          ]
         },
         "layout": {
          "annotationdefaults": {
           "arrowcolor": "#2a3f5f",
           "arrowhead": 0,
           "arrowwidth": 1
          },
          "autotypenumbers": "strict",
          "coloraxis": {
           "colorbar": {
            "outlinewidth": 0,
            "ticks": ""
           }
          },
          "colorscale": {
           "diverging": [
            [
             0,
             "#8e0152"
            ],
            [
             0.1,
             "#c51b7d"
            ],
            [
             0.2,
             "#de77ae"
            ],
            [
             0.3,
             "#f1b6da"
            ],
            [
             0.4,
             "#fde0ef"
            ],
            [
             0.5,
             "#f7f7f7"
            ],
            [
             0.6,
             "#e6f5d0"
            ],
            [
             0.7,
             "#b8e186"
            ],
            [
             0.8,
             "#7fbc41"
            ],
            [
             0.9,
             "#4d9221"
            ],
            [
             1,
             "#276419"
            ]
           ],
           "sequential": [
            [
             0,
             "#0d0887"
            ],
            [
             0.1111111111111111,
             "#46039f"
            ],
            [
             0.2222222222222222,
             "#7201a8"
            ],
            [
             0.3333333333333333,
             "#9c179e"
            ],
            [
             0.4444444444444444,
             "#bd3786"
            ],
            [
             0.5555555555555556,
             "#d8576b"
            ],
            [
             0.6666666666666666,
             "#ed7953"
            ],
            [
             0.7777777777777778,
             "#fb9f3a"
            ],
            [
             0.8888888888888888,
             "#fdca26"
            ],
            [
             1,
             "#f0f921"
            ]
           ],
           "sequentialminus": [
            [
             0,
             "#0d0887"
            ],
            [
             0.1111111111111111,
             "#46039f"
            ],
            [
             0.2222222222222222,
             "#7201a8"
            ],
            [
             0.3333333333333333,
             "#9c179e"
            ],
            [
             0.4444444444444444,
             "#bd3786"
            ],
            [
             0.5555555555555556,
             "#d8576b"
            ],
            [
             0.6666666666666666,
             "#ed7953"
            ],
            [
             0.7777777777777778,
             "#fb9f3a"
            ],
            [
             0.8888888888888888,
             "#fdca26"
            ],
            [
             1,
             "#f0f921"
            ]
           ]
          },
          "colorway": [
           "#636efa",
           "#EF553B",
           "#00cc96",
           "#ab63fa",
           "#FFA15A",
           "#19d3f3",
           "#FF6692",
           "#B6E880",
           "#FF97FF",
           "#FECB52"
          ],
          "font": {
           "color": "#2a3f5f"
          },
          "geo": {
           "bgcolor": "white",
           "lakecolor": "white",
           "landcolor": "#E5ECF6",
           "showlakes": true,
           "showland": true,
           "subunitcolor": "white"
          },
          "hoverlabel": {
           "align": "left"
          },
          "hovermode": "closest",
          "mapbox": {
           "style": "light"
          },
          "paper_bgcolor": "white",
          "plot_bgcolor": "#E5ECF6",
          "polar": {
           "angularaxis": {
            "gridcolor": "white",
            "linecolor": "white",
            "ticks": ""
           },
           "bgcolor": "#E5ECF6",
           "radialaxis": {
            "gridcolor": "white",
            "linecolor": "white",
            "ticks": ""
           }
          },
          "scene": {
           "xaxis": {
            "backgroundcolor": "#E5ECF6",
            "gridcolor": "white",
            "gridwidth": 2,
            "linecolor": "white",
            "showbackground": true,
            "ticks": "",
            "zerolinecolor": "white"
           },
           "yaxis": {
            "backgroundcolor": "#E5ECF6",
            "gridcolor": "white",
            "gridwidth": 2,
            "linecolor": "white",
            "showbackground": true,
            "ticks": "",
            "zerolinecolor": "white"
           },
           "zaxis": {
            "backgroundcolor": "#E5ECF6",
            "gridcolor": "white",
            "gridwidth": 2,
            "linecolor": "white",
            "showbackground": true,
            "ticks": "",
            "zerolinecolor": "white"
           }
          },
          "shapedefaults": {
           "line": {
            "color": "#2a3f5f"
           }
          },
          "ternary": {
           "aaxis": {
            "gridcolor": "white",
            "linecolor": "white",
            "ticks": ""
           },
           "baxis": {
            "gridcolor": "white",
            "linecolor": "white",
            "ticks": ""
           },
           "bgcolor": "#E5ECF6",
           "caxis": {
            "gridcolor": "white",
            "linecolor": "white",
            "ticks": ""
           }
          },
          "title": {
           "x": 0.05
          },
          "xaxis": {
           "automargin": true,
           "gridcolor": "white",
           "linecolor": "white",
           "ticks": "",
           "title": {
            "standoff": 15
           },
           "zerolinecolor": "white",
           "zerolinewidth": 2
          },
          "yaxis": {
           "automargin": true,
           "gridcolor": "white",
           "linecolor": "white",
           "ticks": "",
           "title": {
            "standoff": 15
           },
           "zerolinecolor": "white",
           "zerolinewidth": 2
          }
         }
        },
        "title": {
         "text": "Rupee Performance vs Major Currencies (Base = 100)"
        },
        "xaxis": {
         "anchor": "y",
         "domain": [
          0,
          1
         ],
         "title": {
          "text": "Date"
         }
        },
        "yaxis": {
         "anchor": "x",
         "domain": [
          0,
          1
         ],
         "title": {
          "text": "Rupee Value Index"
         }
        }
       }
      }
     },
     "metadata": {},
     "output_type": "display_data"
    }
   ],
   "source": [
    "import plotly.express as px\n",
    "\n",
    "fig = px.line(\n",
    "    norm,\n",
    "    x=\"Date\",\n",
    "    y=norm.columns[1:],  # all except Date\n",
    "    title=\"Rupee Performance vs Major Currencies (Base = 100)\",\n",
    "    labels={\"value\": \"Index (Base=100)\", \"Date\": \"Date\"},\n",
    ")\n",
    "\n",
    "fig.update_layout(\n",
    "    yaxis_title=\"Rupee Value Index\", legend_title=\"Currency\", hovermode=\"x unified\"\n",
    ")\n",
    "\n",
    "fig.add_hline(y=100, line_dash=\"dot\", line_color=\"gray\", annotation_text=\"Base Level\")\n",
    "\n",
    "fig.show()"
   ]
  }
 ],
 "metadata": {
  "kernelspec": {
   "display_name": "venv (3.11.4)",
   "language": "python",
   "name": "python3"
  },
  "language_info": {
   "codemirror_mode": {
    "name": "ipython",
    "version": 3
   },
   "file_extension": ".py",
   "mimetype": "text/x-python",
   "name": "python",
   "nbconvert_exporter": "python",
   "pygments_lexer": "ipython3",
   "version": "3.11.4"
  }
 },
 "nbformat": 4,
 "nbformat_minor": 5
}
