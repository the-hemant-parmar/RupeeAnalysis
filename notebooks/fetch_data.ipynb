{
 "cells": [
  {
   "cell_type": "code",
   "execution_count": 1,
   "id": "e2ea8c54",
   "metadata": {},
   "outputs": [],
   "source": [
    "import yfinance as yf\n",
    "from datetime import datetime, timedelta\n",
    "import pandas as pd\n",
    "import os"
   ]
  },
  {
   "cell_type": "code",
   "execution_count": 2,
   "id": "b018e9b2",
   "metadata": {},
   "outputs": [],
   "source": [
    "CURRENCY_TICKERS = {\n",
    "    \"USD\": \"USDINR=X\",\n",
    "    \"EUR\": \"EURINR=X\",\n",
    "    \"JPY\": \"JPYINR=X\",\n",
    "    \"GBP\": \"GBPINR=X\",\n",
    "}"
   ]
  },
  {
   "cell_type": "code",
   "execution_count": 3,
   "id": "92d98667",
   "metadata": {},
   "outputs": [],
   "source": [
    "OUTPUT_PATH = \"../data/currency_data.csv\""
   ]
  },
  {
   "cell_type": "code",
   "execution_count": 4,
   "id": "63dfafc8",
   "metadata": {},
   "outputs": [],
   "source": [
    "end_date = datetime.today()\n",
    "start_date = end_date - timedelta(days = 365)\n"
   ]
  },
  {
   "cell_type": "code",
   "execution_count": 5,
   "id": "90228b89",
   "metadata": {},
   "outputs": [],
   "source": [
    "os.makedirs(os.path.dirname(OUTPUT_PATH), exist_ok=True)"
   ]
  },
  {
   "cell_type": "code",
   "execution_count": 6,
   "id": "4a2fc6b8",
   "metadata": {},
   "outputs": [
    {
     "name": "stderr",
     "output_type": "stream",
     "text": [
      "C:\\Users\\hp328\\AppData\\Local\\Temp\\ipykernel_14064\\391434411.py:3: FutureWarning: YF.download() has changed argument auto_adjust default to True\n",
      "  df = yf.download(ticker, start=start_date, end=end_date, progress=False)\n",
      "C:\\Users\\hp328\\AppData\\Local\\Temp\\ipykernel_14064\\391434411.py:3: FutureWarning: YF.download() has changed argument auto_adjust default to True\n",
      "  df = yf.download(ticker, start=start_date, end=end_date, progress=False)\n",
      "C:\\Users\\hp328\\AppData\\Local\\Temp\\ipykernel_14064\\391434411.py:3: FutureWarning: YF.download() has changed argument auto_adjust default to True\n",
      "  df = yf.download(ticker, start=start_date, end=end_date, progress=False)\n",
      "C:\\Users\\hp328\\AppData\\Local\\Temp\\ipykernel_14064\\391434411.py:3: FutureWarning: YF.download() has changed argument auto_adjust default to True\n",
      "  df = yf.download(ticker, start=start_date, end=end_date, progress=False)\n"
     ]
    }
   ],
   "source": [
    "all_data = []\n",
    "for name, ticker in CURRENCY_TICKERS.items():\n",
    "    df = yf.download(ticker, start=start_date, end=end_date, progress=False)\n",
    "    df = df[[\"Close\"]].rename(columns={\"Close\":f\"{name}_INR\"}) # type: ignore\n",
    "    all_data.append(df)"
   ]
  },
  {
   "cell_type": "code",
   "execution_count": 7,
   "id": "90be7db6",
   "metadata": {},
   "outputs": [
    {
     "data": {
      "text/html": [
       "<div>\n",
       "<style scoped>\n",
       "    .dataframe tbody tr th:only-of-type {\n",
       "        vertical-align: middle;\n",
       "    }\n",
       "\n",
       "    .dataframe tbody tr th {\n",
       "        vertical-align: top;\n",
       "    }\n",
       "\n",
       "    .dataframe thead tr th {\n",
       "        text-align: left;\n",
       "    }\n",
       "\n",
       "    .dataframe thead tr:last-of-type th {\n",
       "        text-align: right;\n",
       "    }\n",
       "</style>\n",
       "<table border=\"1\" class=\"dataframe\">\n",
       "  <thead>\n",
       "    <tr>\n",
       "      <th>Price</th>\n",
       "      <th>USD_INR</th>\n",
       "    </tr>\n",
       "    <tr>\n",
       "      <th>Ticker</th>\n",
       "      <th>USDINR=X</th>\n",
       "    </tr>\n",
       "    <tr>\n",
       "      <th>Date</th>\n",
       "      <th></th>\n",
       "    </tr>\n",
       "  </thead>\n",
       "  <tbody>\n",
       "    <tr>\n",
       "      <th>2025-10-21</th>\n",
       "      <td>87.879997</td>\n",
       "    </tr>\n",
       "    <tr>\n",
       "      <th>2025-10-22</th>\n",
       "      <td>88.001602</td>\n",
       "    </tr>\n",
       "    <tr>\n",
       "      <th>2025-10-23</th>\n",
       "      <td>87.740303</td>\n",
       "    </tr>\n",
       "    <tr>\n",
       "      <th>2025-10-24</th>\n",
       "      <td>87.778999</td>\n",
       "    </tr>\n",
       "    <tr>\n",
       "      <th>2025-10-27</th>\n",
       "      <td>88.212997</td>\n",
       "    </tr>\n",
       "  </tbody>\n",
       "</table>\n",
       "</div>"
      ],
      "text/plain": [
       "Price         USD_INR\n",
       "Ticker       USDINR=X\n",
       "Date                 \n",
       "2025-10-21  87.879997\n",
       "2025-10-22  88.001602\n",
       "2025-10-23  87.740303\n",
       "2025-10-24  87.778999\n",
       "2025-10-27  88.212997"
      ]
     },
     "execution_count": 7,
     "metadata": {},
     "output_type": "execute_result"
    }
   ],
   "source": [
    "all_data[0].tail()"
   ]
  },
  {
   "cell_type": "code",
   "execution_count": 8,
   "id": "0eb812d1",
   "metadata": {},
   "outputs": [
    {
     "data": {
      "text/html": [
       "<div>\n",
       "<style scoped>\n",
       "    .dataframe tbody tr th:only-of-type {\n",
       "        vertical-align: middle;\n",
       "    }\n",
       "\n",
       "    .dataframe tbody tr th {\n",
       "        vertical-align: top;\n",
       "    }\n",
       "\n",
       "    .dataframe thead tr th {\n",
       "        text-align: left;\n",
       "    }\n",
       "\n",
       "    .dataframe thead tr:last-of-type th {\n",
       "        text-align: right;\n",
       "    }\n",
       "</style>\n",
       "<table border=\"1\" class=\"dataframe\">\n",
       "  <thead>\n",
       "    <tr>\n",
       "      <th>Price</th>\n",
       "      <th>USD_INR</th>\n",
       "    </tr>\n",
       "    <tr>\n",
       "      <th>Ticker</th>\n",
       "      <th>USDINR=X</th>\n",
       "    </tr>\n",
       "    <tr>\n",
       "      <th>Date</th>\n",
       "      <th></th>\n",
       "    </tr>\n",
       "  </thead>\n",
       "  <tbody>\n",
       "    <tr>\n",
       "      <th>2024-10-28</th>\n",
       "      <td>84.101997</td>\n",
       "    </tr>\n",
       "    <tr>\n",
       "      <th>2024-10-29</th>\n",
       "      <td>84.102798</td>\n",
       "    </tr>\n",
       "    <tr>\n",
       "      <th>2024-10-30</th>\n",
       "      <td>84.089302</td>\n",
       "    </tr>\n",
       "    <tr>\n",
       "      <th>2024-10-31</th>\n",
       "      <td>84.089104</td>\n",
       "    </tr>\n",
       "    <tr>\n",
       "      <th>2024-11-01</th>\n",
       "      <td>84.091499</td>\n",
       "    </tr>\n",
       "  </tbody>\n",
       "</table>\n",
       "</div>"
      ],
      "text/plain": [
       "Price         USD_INR\n",
       "Ticker       USDINR=X\n",
       "Date                 \n",
       "2024-10-28  84.101997\n",
       "2024-10-29  84.102798\n",
       "2024-10-30  84.089302\n",
       "2024-10-31  84.089104\n",
       "2024-11-01  84.091499"
      ]
     },
     "execution_count": 8,
     "metadata": {},
     "output_type": "execute_result"
    }
   ],
   "source": [
    "all_data[0].head()"
   ]
  },
  {
   "cell_type": "code",
   "execution_count": 9,
   "id": "55ff5222",
   "metadata": {},
   "outputs": [],
   "source": [
    "merged_data = pd.concat(all_data, axis=1)\n",
    "merged_data.reset_index(inplace=True)\n",
    "merged_data = merged_data.astype(\n",
    "    {\n",
    "        \"Date\": str,\n",
    "        \"USD_INR\": float,\n",
    "        \"EUR_INR\": float,\n",
    "        \"JPY_INR\": float,\n",
    "        \"GBP_INR\": float,\n",
    "    }\n",
    ")\n",
    "merged_data.to_csv(OUTPUT_PATH, index=False)"
   ]
  }
 ],
 "metadata": {
  "kernelspec": {
   "display_name": "venv (3.11.4)",
   "language": "python",
   "name": "python3"
  },
  "language_info": {
   "codemirror_mode": {
    "name": "ipython",
    "version": 3
   },
   "file_extension": ".py",
   "mimetype": "text/x-python",
   "name": "python",
   "nbconvert_exporter": "python",
   "pygments_lexer": "ipython3",
   "version": "3.11.4"
  }
 },
 "nbformat": 4,
 "nbformat_minor": 5
}
