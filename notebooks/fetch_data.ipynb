{
 "cells": [
  {
   "cell_type": "code",
   "execution_count": 1,
   "id": "e2ea8c54",
   "metadata": {},
   "outputs": [],
   "source": [
    "import yfinance as yf\n",
    "from datetime import datetime, timedelta\n",
    "import pandas as pd\n",
    "import os"
   ]
  },
  {
   "cell_type": "code",
   "execution_count": 2,
   "id": "b018e9b2",
   "metadata": {},
   "outputs": [],
   "source": [
    "CURRENCY_TICKERS = {\n",
    "    \"USD\": \"USDINR=X\",\n",
    "    \"EUR\": \"EURINR=X\",\n",
    "    \"JPY\": \"JPYINR=X\",\n",
    "    \"GBP\": \"GBPINR=X\",\n",
    "}"
   ]
  },
  {
   "cell_type": "code",
   "execution_count": 3,
   "id": "92d98667",
   "metadata": {},
   "outputs": [],
   "source": [
    "OUTPUT_PATH = \"../data/currency_data.csv\""
   ]
  },
  {
   "cell_type": "code",
   "execution_count": 4,
   "id": "63dfafc8",
   "metadata": {},
   "outputs": [],
   "source": [
    "end_date = datetime.today()\n",
    "start_date = end_date - timedelta(days = 365)\n"
   ]
  },
  {
   "cell_type": "code",
   "execution_count": 5,
   "id": "90228b89",
   "metadata": {},
   "outputs": [],
   "source": [
    "os.makedirs(os.path.dirname(OUTPUT_PATH), exist_ok=True)"
   ]
  },
  {
   "cell_type": "code",
   "execution_count": 6,
   "id": "4a2fc6b8",
   "metadata": {},
   "outputs": [
    {
     "name": "stderr",
     "output_type": "stream",
     "text": [
      "C:\\Users\\hp328\\AppData\\Local\\Temp\\ipykernel_7240\\391434411.py:3: FutureWarning: YF.download() has changed argument auto_adjust default to True\n",
      "  df = yf.download(ticker, start=start_date, end=end_date, progress=False)\n",
      "C:\\Users\\hp328\\AppData\\Local\\Temp\\ipykernel_7240\\391434411.py:3: FutureWarning: YF.download() has changed argument auto_adjust default to True\n",
      "  df = yf.download(ticker, start=start_date, end=end_date, progress=False)\n",
      "C:\\Users\\hp328\\AppData\\Local\\Temp\\ipykernel_7240\\391434411.py:3: FutureWarning: YF.download() has changed argument auto_adjust default to True\n",
      "  df = yf.download(ticker, start=start_date, end=end_date, progress=False)\n",
      "C:\\Users\\hp328\\AppData\\Local\\Temp\\ipykernel_7240\\391434411.py:3: FutureWarning: YF.download() has changed argument auto_adjust default to True\n",
      "  df = yf.download(ticker, start=start_date, end=end_date, progress=False)\n"
     ]
    }
   ],
   "source": [
    "all_data = []\n",
    "for name, ticker in CURRENCY_TICKERS.items():\n",
    "    df = yf.download(ticker, start=start_date, end=end_date, progress=False)\n",
    "    df = df[[\"Close\"]].rename(columns={\"Close\":f\"{name}_INR\"}) # type: ignore\n",
    "    all_data.append(df)"
   ]
  },
  {
   "cell_type": "code",
   "execution_count": 7,
   "id": "90be7db6",
   "metadata": {},
   "outputs": [
    {
     "data": {
      "text/html": [
       "<div>\n",
       "<style scoped>\n",
       "    .dataframe tbody tr th:only-of-type {\n",
       "        vertical-align: middle;\n",
       "    }\n",
       "\n",
       "    .dataframe tbody tr th {\n",
       "        vertical-align: top;\n",
       "    }\n",
       "\n",
       "    .dataframe thead tr th {\n",
       "        text-align: left;\n",
       "    }\n",
       "\n",
       "    .dataframe thead tr:last-of-type th {\n",
       "        text-align: right;\n",
       "    }\n",
       "</style>\n",
       "<table border=\"1\" class=\"dataframe\">\n",
       "  <thead>\n",
       "    <tr>\n",
       "      <th>Price</th>\n",
       "      <th>USD_INR</th>\n",
       "    </tr>\n",
       "    <tr>\n",
       "      <th>Ticker</th>\n",
       "      <th>USDINR=X</th>\n",
       "    </tr>\n",
       "    <tr>\n",
       "      <th>Date</th>\n",
       "      <th></th>\n",
       "    </tr>\n",
       "  </thead>\n",
       "  <tbody>\n",
       "    <tr>\n",
       "      <th>2025-10-10</th>\n",
       "      <td>88.865402</td>\n",
       "    </tr>\n",
       "    <tr>\n",
       "      <th>2025-10-13</th>\n",
       "      <td>88.757301</td>\n",
       "    </tr>\n",
       "    <tr>\n",
       "      <th>2025-10-14</th>\n",
       "      <td>88.665100</td>\n",
       "    </tr>\n",
       "    <tr>\n",
       "      <th>2025-10-15</th>\n",
       "      <td>88.782501</td>\n",
       "    </tr>\n",
       "    <tr>\n",
       "      <th>2025-10-16</th>\n",
       "      <td>87.889999</td>\n",
       "    </tr>\n",
       "  </tbody>\n",
       "</table>\n",
       "</div>"
      ],
      "text/plain": [
       "Price         USD_INR\n",
       "Ticker       USDINR=X\n",
       "Date                 \n",
       "2025-10-10  88.865402\n",
       "2025-10-13  88.757301\n",
       "2025-10-14  88.665100\n",
       "2025-10-15  88.782501\n",
       "2025-10-16  87.889999"
      ]
     },
     "execution_count": 7,
     "metadata": {},
     "output_type": "execute_result"
    }
   ],
   "source": [
    "all_data[0].tail()"
   ]
  },
  {
   "cell_type": "code",
   "execution_count": 8,
   "id": "0eb812d1",
   "metadata": {},
   "outputs": [
    {
     "data": {
      "text/html": [
       "<div>\n",
       "<style scoped>\n",
       "    .dataframe tbody tr th:only-of-type {\n",
       "        vertical-align: middle;\n",
       "    }\n",
       "\n",
       "    .dataframe tbody tr th {\n",
       "        vertical-align: top;\n",
       "    }\n",
       "\n",
       "    .dataframe thead tr th {\n",
       "        text-align: left;\n",
       "    }\n",
       "\n",
       "    .dataframe thead tr:last-of-type th {\n",
       "        text-align: right;\n",
       "    }\n",
       "</style>\n",
       "<table border=\"1\" class=\"dataframe\">\n",
       "  <thead>\n",
       "    <tr>\n",
       "      <th>Price</th>\n",
       "      <th>USD_INR</th>\n",
       "    </tr>\n",
       "    <tr>\n",
       "      <th>Ticker</th>\n",
       "      <th>USDINR=X</th>\n",
       "    </tr>\n",
       "    <tr>\n",
       "      <th>Date</th>\n",
       "      <th></th>\n",
       "    </tr>\n",
       "  </thead>\n",
       "  <tbody>\n",
       "    <tr>\n",
       "      <th>2024-10-16</th>\n",
       "      <td>84.056198</td>\n",
       "    </tr>\n",
       "    <tr>\n",
       "      <th>2024-10-17</th>\n",
       "      <td>84.039299</td>\n",
       "    </tr>\n",
       "    <tr>\n",
       "      <th>2024-10-18</th>\n",
       "      <td>84.053802</td>\n",
       "    </tr>\n",
       "    <tr>\n",
       "      <th>2024-10-21</th>\n",
       "      <td>84.068703</td>\n",
       "    </tr>\n",
       "    <tr>\n",
       "      <th>2024-10-22</th>\n",
       "      <td>84.073502</td>\n",
       "    </tr>\n",
       "  </tbody>\n",
       "</table>\n",
       "</div>"
      ],
      "text/plain": [
       "Price         USD_INR\n",
       "Ticker       USDINR=X\n",
       "Date                 \n",
       "2024-10-16  84.056198\n",
       "2024-10-17  84.039299\n",
       "2024-10-18  84.053802\n",
       "2024-10-21  84.068703\n",
       "2024-10-22  84.073502"
      ]
     },
     "execution_count": 8,
     "metadata": {},
     "output_type": "execute_result"
    }
   ],
   "source": [
    "all_data[0].head()"
   ]
  },
  {
   "cell_type": "code",
   "execution_count": 9,
   "id": "55ff5222",
   "metadata": {},
   "outputs": [],
   "source": [
    "merged_data = pd.concat(all_data, axis=1)\n",
    "merged_data.reset_index(inplace=True)\n",
    "merged_data = merged_data.astype(\n",
    "    {\n",
    "        \"Date\": str,\n",
    "        \"USD_INR\": float,\n",
    "        \"EUR_INR\": float,\n",
    "        \"JPY_INR\": float,\n",
    "        \"GBP_INR\": float,\n",
    "    }\n",
    ")\n",
    "merged_data.to_csv(OUTPUT_PATH, index=False)"
   ]
  }
 ],
 "metadata": {
  "kernelspec": {
   "display_name": "venv (3.11.4)",
   "language": "python",
   "name": "python3"
  },
  "language_info": {
   "codemirror_mode": {
    "name": "ipython",
    "version": 3
   },
   "file_extension": ".py",
   "mimetype": "text/x-python",
   "name": "python",
   "nbconvert_exporter": "python",
   "pygments_lexer": "ipython3",
   "version": "3.11.4"
  }
 },
 "nbformat": 4,
 "nbformat_minor": 5
}
